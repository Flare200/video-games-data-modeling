{
 "cells": [
  {
   "cell_type": "markdown",
   "metadata": {},
   "source": [
    "# 1. Do games with higher critic scores tend to have higher user scores as well?  \n",
    "Often, critics might receive a game differently than the general audience. Critics might prioritize aspects such as technical execution, storyline, graphics, uniqueness, whereas the general audience might pay more attention to playability, fun factor, or social elements. Therefore, exploring any correlation (or lack thereof) between critic scores and user scores can offer insights into these different perspectives and considerations in evaluating a video game."
   ]
  },
  {
   "cell_type": "code",
   "execution_count": 1,
   "metadata": {},
   "outputs": [],
   "source": [
    "# Function to install packages if not already installed\n",
    "def import_or_install(package):\n",
    "    try:\n",
    "        __import__(package)\n",
    "    except ImportError:\n",
    "        if package == 'sklearn':\n",
    "            %pip install scikit-learn\n",
    "        else:\n",
    "            %pip install {package}\n",
    "\n",
    "packages = ['numpy', 'pandas', 'matplotlib', 'sklearn', 'seaborn']\n",
    "for package in packages:\n",
    "    import_or_install(package)"
   ]
  },
  {
   "cell_type": "code",
   "execution_count": 2,
   "metadata": {},
   "outputs": [
    {
     "data": {
      "text/html": [
       "<div>\n",
       "<style scoped>\n",
       "    .dataframe tbody tr th:only-of-type {\n",
       "        vertical-align: middle;\n",
       "    }\n",
       "\n",
       "    .dataframe tbody tr th {\n",
       "        vertical-align: top;\n",
       "    }\n",
       "\n",
       "    .dataframe thead th {\n",
       "        text-align: right;\n",
       "    }\n",
       "</style>\n",
       "<table border=\"1\" class=\"dataframe\">\n",
       "  <thead>\n",
       "    <tr style=\"text-align: right;\">\n",
       "      <th></th>\n",
       "      <th>Rank</th>\n",
       "      <th>Name</th>\n",
       "      <th>basename</th>\n",
       "      <th>Genre</th>\n",
       "      <th>ESRB_Rating</th>\n",
       "      <th>Platform</th>\n",
       "      <th>Publisher</th>\n",
       "      <th>Developer</th>\n",
       "      <th>VGChartz_Score</th>\n",
       "      <th>Critic_Score</th>\n",
       "      <th>...</th>\n",
       "      <th>NA_Sales</th>\n",
       "      <th>PAL_Sales</th>\n",
       "      <th>JP_Sales</th>\n",
       "      <th>Other_Sales</th>\n",
       "      <th>Year</th>\n",
       "      <th>Last_Update</th>\n",
       "      <th>url</th>\n",
       "      <th>status</th>\n",
       "      <th>Vgchartzscore</th>\n",
       "      <th>img_url</th>\n",
       "    </tr>\n",
       "  </thead>\n",
       "  <tbody>\n",
       "    <tr>\n",
       "      <th>0</th>\n",
       "      <td>1</td>\n",
       "      <td>Wii Sports</td>\n",
       "      <td>wii-sports</td>\n",
       "      <td>Sports</td>\n",
       "      <td>E</td>\n",
       "      <td>Wii</td>\n",
       "      <td>Nintendo</td>\n",
       "      <td>Nintendo EAD</td>\n",
       "      <td>NaN</td>\n",
       "      <td>7.7</td>\n",
       "      <td>...</td>\n",
       "      <td>NaN</td>\n",
       "      <td>NaN</td>\n",
       "      <td>NaN</td>\n",
       "      <td>NaN</td>\n",
       "      <td>2006.0</td>\n",
       "      <td>NaN</td>\n",
       "      <td>http://www.vgchartz.com/game/2667/wii-sports/?...</td>\n",
       "      <td>1</td>\n",
       "      <td>NaN</td>\n",
       "      <td>/games/boxart/full_2258645AmericaFrontccc.jpg</td>\n",
       "    </tr>\n",
       "    <tr>\n",
       "      <th>1</th>\n",
       "      <td>2</td>\n",
       "      <td>Super Mario Bros.</td>\n",
       "      <td>super-mario-bros</td>\n",
       "      <td>Platform</td>\n",
       "      <td>NaN</td>\n",
       "      <td>NES</td>\n",
       "      <td>Nintendo</td>\n",
       "      <td>Nintendo EAD</td>\n",
       "      <td>NaN</td>\n",
       "      <td>10.0</td>\n",
       "      <td>...</td>\n",
       "      <td>NaN</td>\n",
       "      <td>NaN</td>\n",
       "      <td>NaN</td>\n",
       "      <td>NaN</td>\n",
       "      <td>1985.0</td>\n",
       "      <td>NaN</td>\n",
       "      <td>http://www.vgchartz.com/game/6455/super-mario-...</td>\n",
       "      <td>1</td>\n",
       "      <td>NaN</td>\n",
       "      <td>/games/boxart/8972270ccc.jpg</td>\n",
       "    </tr>\n",
       "    <tr>\n",
       "      <th>2</th>\n",
       "      <td>3</td>\n",
       "      <td>Mario Kart Wii</td>\n",
       "      <td>mario-kart-wii</td>\n",
       "      <td>Racing</td>\n",
       "      <td>E</td>\n",
       "      <td>Wii</td>\n",
       "      <td>Nintendo</td>\n",
       "      <td>Nintendo EAD</td>\n",
       "      <td>NaN</td>\n",
       "      <td>8.2</td>\n",
       "      <td>...</td>\n",
       "      <td>NaN</td>\n",
       "      <td>NaN</td>\n",
       "      <td>NaN</td>\n",
       "      <td>NaN</td>\n",
       "      <td>2008.0</td>\n",
       "      <td>11th Apr 18</td>\n",
       "      <td>http://www.vgchartz.com/game/6968/mario-kart-w...</td>\n",
       "      <td>1</td>\n",
       "      <td>8.7</td>\n",
       "      <td>/games/boxart/full_8932480AmericaFrontccc.jpg</td>\n",
       "    </tr>\n",
       "    <tr>\n",
       "      <th>3</th>\n",
       "      <td>4</td>\n",
       "      <td>PlayerUnknown's Battlegrounds</td>\n",
       "      <td>playerunknowns-battlegrounds</td>\n",
       "      <td>Shooter</td>\n",
       "      <td>NaN</td>\n",
       "      <td>PC</td>\n",
       "      <td>PUBG Corporation</td>\n",
       "      <td>PUBG Corporation</td>\n",
       "      <td>NaN</td>\n",
       "      <td>NaN</td>\n",
       "      <td>...</td>\n",
       "      <td>NaN</td>\n",
       "      <td>NaN</td>\n",
       "      <td>NaN</td>\n",
       "      <td>NaN</td>\n",
       "      <td>2017.0</td>\n",
       "      <td>13th Nov 18</td>\n",
       "      <td>http://www.vgchartz.com/game/215988/playerunkn...</td>\n",
       "      <td>1</td>\n",
       "      <td>NaN</td>\n",
       "      <td>/games/boxart/full_8052843AmericaFrontccc.jpg</td>\n",
       "    </tr>\n",
       "    <tr>\n",
       "      <th>4</th>\n",
       "      <td>5</td>\n",
       "      <td>Wii Sports Resort</td>\n",
       "      <td>wii-sports-resort</td>\n",
       "      <td>Sports</td>\n",
       "      <td>E</td>\n",
       "      <td>Wii</td>\n",
       "      <td>Nintendo</td>\n",
       "      <td>Nintendo EAD</td>\n",
       "      <td>NaN</td>\n",
       "      <td>8.0</td>\n",
       "      <td>...</td>\n",
       "      <td>NaN</td>\n",
       "      <td>NaN</td>\n",
       "      <td>NaN</td>\n",
       "      <td>NaN</td>\n",
       "      <td>2009.0</td>\n",
       "      <td>NaN</td>\n",
       "      <td>http://www.vgchartz.com/game/24656/wii-sports-...</td>\n",
       "      <td>1</td>\n",
       "      <td>8.8</td>\n",
       "      <td>/games/boxart/full_7295041AmericaFrontccc.jpg</td>\n",
       "    </tr>\n",
       "  </tbody>\n",
       "</table>\n",
       "<p>5 rows × 23 columns</p>\n",
       "</div>"
      ],
      "text/plain": [
       "   Rank                           Name                      basename  \\\n",
       "0     1                     Wii Sports                    wii-sports   \n",
       "1     2              Super Mario Bros.              super-mario-bros   \n",
       "2     3                 Mario Kart Wii                mario-kart-wii   \n",
       "3     4  PlayerUnknown's Battlegrounds  playerunknowns-battlegrounds   \n",
       "4     5              Wii Sports Resort             wii-sports-resort   \n",
       "\n",
       "      Genre ESRB_Rating Platform         Publisher         Developer  \\\n",
       "0    Sports           E      Wii          Nintendo      Nintendo EAD   \n",
       "1  Platform         NaN      NES          Nintendo      Nintendo EAD   \n",
       "2    Racing           E      Wii          Nintendo      Nintendo EAD   \n",
       "3   Shooter         NaN       PC  PUBG Corporation  PUBG Corporation   \n",
       "4    Sports           E      Wii          Nintendo      Nintendo EAD   \n",
       "\n",
       "   VGChartz_Score  Critic_Score  ...  NA_Sales  PAL_Sales  JP_Sales  \\\n",
       "0             NaN           7.7  ...       NaN        NaN       NaN   \n",
       "1             NaN          10.0  ...       NaN        NaN       NaN   \n",
       "2             NaN           8.2  ...       NaN        NaN       NaN   \n",
       "3             NaN           NaN  ...       NaN        NaN       NaN   \n",
       "4             NaN           8.0  ...       NaN        NaN       NaN   \n",
       "\n",
       "   Other_Sales    Year  Last_Update  \\\n",
       "0          NaN  2006.0          NaN   \n",
       "1          NaN  1985.0          NaN   \n",
       "2          NaN  2008.0  11th Apr 18   \n",
       "3          NaN  2017.0  13th Nov 18   \n",
       "4          NaN  2009.0          NaN   \n",
       "\n",
       "                                                 url  status Vgchartzscore  \\\n",
       "0  http://www.vgchartz.com/game/2667/wii-sports/?...       1           NaN   \n",
       "1  http://www.vgchartz.com/game/6455/super-mario-...       1           NaN   \n",
       "2  http://www.vgchartz.com/game/6968/mario-kart-w...       1           8.7   \n",
       "3  http://www.vgchartz.com/game/215988/playerunkn...       1           NaN   \n",
       "4  http://www.vgchartz.com/game/24656/wii-sports-...       1           8.8   \n",
       "\n",
       "                                         img_url  \n",
       "0  /games/boxart/full_2258645AmericaFrontccc.jpg  \n",
       "1                   /games/boxart/8972270ccc.jpg  \n",
       "2  /games/boxart/full_8932480AmericaFrontccc.jpg  \n",
       "3  /games/boxart/full_8052843AmericaFrontccc.jpg  \n",
       "4  /games/boxart/full_7295041AmericaFrontccc.jpg  \n",
       "\n",
       "[5 rows x 23 columns]"
      ]
     },
     "execution_count": 2,
     "metadata": {},
     "output_type": "execute_result"
    }
   ],
   "source": [
    "# Import packages\n",
    "import numpy as np\n",
    "import pandas as pd\n",
    "import matplotlib.pyplot as plt\n",
    "from sklearn.linear_model import LinearRegression\n",
    "from sklearn.preprocessing import StandardScaler\n",
    "from sklearn.model_selection import train_test_split\n",
    "from sklearn.metrics import r2_score, mean_squared_error\n",
    "import seaborn as sns\n",
    "%matplotlib inline\n",
    "\n",
    "# Used to ignore some warnings for sns\n",
    "import warnings \n",
    "warnings.filterwarnings('ignore')\n",
    "\n",
    "# Read in the data\n",
    "df = pd.read_csv('vgsales-12-4-2019.csv')\n",
    "df.head()"
   ]
  },
  {
   "cell_type": "code",
   "execution_count": 3,
   "metadata": {},
   "outputs": [
    {
     "name": "stdout",
     "output_type": "stream",
     "text": [
      "(218, 7)\n"
     ]
    },
    {
     "data": {
      "text/html": [
       "<div>\n",
       "<style scoped>\n",
       "    .dataframe tbody tr th:only-of-type {\n",
       "        vertical-align: middle;\n",
       "    }\n",
       "\n",
       "    .dataframe tbody tr th {\n",
       "        vertical-align: top;\n",
       "    }\n",
       "\n",
       "    .dataframe thead th {\n",
       "        text-align: right;\n",
       "    }\n",
       "</style>\n",
       "<table border=\"1\" class=\"dataframe\">\n",
       "  <thead>\n",
       "    <tr style=\"text-align: right;\">\n",
       "      <th></th>\n",
       "      <th>Name</th>\n",
       "      <th>Genre</th>\n",
       "      <th>ESRB_Rating</th>\n",
       "      <th>Platform</th>\n",
       "      <th>Publisher</th>\n",
       "      <th>Critic_Score</th>\n",
       "      <th>User_Score</th>\n",
       "    </tr>\n",
       "  </thead>\n",
       "  <tbody>\n",
       "    <tr>\n",
       "      <th>0</th>\n",
       "      <td>Mario Kart Wii</td>\n",
       "      <td>Racing</td>\n",
       "      <td>E</td>\n",
       "      <td>Wii</td>\n",
       "      <td>Nintendo</td>\n",
       "      <td>8.2</td>\n",
       "      <td>9.1</td>\n",
       "    </tr>\n",
       "    <tr>\n",
       "      <th>1</th>\n",
       "      <td>Wii Sports Resort</td>\n",
       "      <td>Sports</td>\n",
       "      <td>E</td>\n",
       "      <td>Wii</td>\n",
       "      <td>Nintendo</td>\n",
       "      <td>8.0</td>\n",
       "      <td>8.8</td>\n",
       "    </tr>\n",
       "    <tr>\n",
       "      <th>2</th>\n",
       "      <td>New Super Mario Bros.</td>\n",
       "      <td>Platform</td>\n",
       "      <td>E</td>\n",
       "      <td>DS</td>\n",
       "      <td>Nintendo</td>\n",
       "      <td>9.1</td>\n",
       "      <td>8.1</td>\n",
       "    </tr>\n",
       "    <tr>\n",
       "      <th>3</th>\n",
       "      <td>New Super Mario Bros. Wii</td>\n",
       "      <td>Platform</td>\n",
       "      <td>E</td>\n",
       "      <td>Wii</td>\n",
       "      <td>Nintendo</td>\n",
       "      <td>8.6</td>\n",
       "      <td>9.2</td>\n",
       "    </tr>\n",
       "    <tr>\n",
       "      <th>4</th>\n",
       "      <td>Wii Play</td>\n",
       "      <td>Misc</td>\n",
       "      <td>E</td>\n",
       "      <td>Wii</td>\n",
       "      <td>Nintendo</td>\n",
       "      <td>5.9</td>\n",
       "      <td>4.5</td>\n",
       "    </tr>\n",
       "  </tbody>\n",
       "</table>\n",
       "</div>"
      ],
      "text/plain": [
       "                        Name     Genre ESRB_Rating Platform Publisher  \\\n",
       "0             Mario Kart Wii    Racing           E      Wii  Nintendo   \n",
       "1          Wii Sports Resort    Sports           E      Wii  Nintendo   \n",
       "2      New Super Mario Bros.  Platform           E       DS  Nintendo   \n",
       "3  New Super Mario Bros. Wii  Platform           E      Wii  Nintendo   \n",
       "4                   Wii Play      Misc           E      Wii  Nintendo   \n",
       "\n",
       "   Critic_Score  User_Score  \n",
       "0           8.2         9.1  \n",
       "1           8.0         8.8  \n",
       "2           9.1         8.1  \n",
       "3           8.6         9.2  \n",
       "4           5.9         4.5  "
      ]
     },
     "execution_count": 3,
     "metadata": {},
     "output_type": "execute_result"
    }
   ],
   "source": [
    "# Get relevant columns\n",
    "game_df = df[['Name', 'Genre', 'ESRB_Rating', 'Platform', 'Publisher', 'Critic_Score', 'User_Score']]\n",
    "\n",
    "# Drop rows with missing critic or user scores\n",
    "game_df = game_df.dropna(subset=['Critic_Score', 'User_Score'])\n",
    "\n",
    "# Reset index\n",
    "game_df.reset_index(drop=True, inplace=True)\n",
    "\n",
    "print(game_df.shape)\n",
    "game_df.head()"
   ]
  },
  {
   "cell_type": "markdown",
   "metadata": {},
   "source": [
    "These will be the necessary fields used to answer our questions.  For right now, we only want rows with critic scores and user scores where both are not null.  This does reduce the dataset by quite a bit, but we will use these 200+ rows to answer the first question.  Having a significantly smaller dataset might introduce some bias or negatively affect our model.  We will see if this is true later."
   ]
  },
  {
   "cell_type": "code",
   "execution_count": 4,
   "metadata": {},
   "outputs": [
    {
     "data": {
      "text/plain": [
       "Text(0, 0.5, 'User Score')"
      ]
     },
     "execution_count": 4,
     "metadata": {},
     "output_type": "execute_result"
    },
    {
     "data": {
      "image/png": "[encoded data removed]",
      "text/plain": [
       "<Figure size 640x480 with 1 Axes>"
      ]
     },
     "metadata": {},
     "output_type": "display_data"
    }
   ],
   "source": [
    "# Create a scatterplot of critic score with relation to user score\n",
    "sns.scatterplot(data=game_df, x='Critic_Score', y='User_Score')\n",
    "plt.title(\"Relationship between Critic Score and User Score\")\n",
    "plt.xlabel(\"Critic Score\")\n",
    "plt.ylabel(\"User Score\")"
   ]
  },
  {
   "cell_type": "markdown",
   "metadata": {},
   "source": [
    "The plot depicts a positive correlation between critic scores and user scores based on the tendency of the groupings.  While there are some outliers, this data shows that users tend to agree with what critics have to say.  More often than not, it shows that higher critic scores lead to higher user scores.  Let's check a correlation matrix to see if this is true."
   ]
  },
  {
   "cell_type": "code",
   "execution_count": 5,
   "metadata": {},
   "outputs": [
    {
     "data": {
      "text/html": [
       "<div>\n",
       "<style scoped>\n",
       "    .dataframe tbody tr th:only-of-type {\n",
       "        vertical-align: middle;\n",
       "    }\n",
       "\n",
       "    .dataframe tbody tr th {\n",
       "        vertical-align: top;\n",
       "    }\n",
       "\n",
       "    .dataframe thead th {\n",
       "        text-align: right;\n",
       "    }\n",
       "</style>\n",
       "<table border=\"1\" class=\"dataframe\">\n",
       "  <thead>\n",
       "    <tr style=\"text-align: right;\">\n",
       "      <th></th>\n",
       "      <th>Critic_Score</th>\n",
       "      <th>User_Score</th>\n",
       "    </tr>\n",
       "  </thead>\n",
       "  <tbody>\n",
       "    <tr>\n",
       "      <th>Critic_Score</th>\n",
       "      <td>1.000000</td>\n",
       "      <td>0.582673</td>\n",
       "    </tr>\n",
       "    <tr>\n",
       "      <th>User_Score</th>\n",
       "      <td>0.582673</td>\n",
       "      <td>1.000000</td>\n",
       "    </tr>\n",
       "  </tbody>\n",
       "</table>\n",
       "</div>"
      ],
      "text/plain": [
       "              Critic_Score  User_Score\n",
       "Critic_Score      1.000000    0.582673\n",
       "User_Score        0.582673    1.000000"
      ]
     },
     "execution_count": 5,
     "metadata": {},
     "output_type": "execute_result"
    }
   ],
   "source": [
    "# Get a correlation matrix of critic and user scores\n",
    "game_df[['Critic_Score', 'User_Score']].corr()"
   ]
  },
  {
   "cell_type": "markdown",
   "metadata": {},
   "source": [
    "The correlation between `Critic_Score` and `User_Score` is about **0.583** or **58.3%**. This indicates a moderate positive relationship between these two variables. It's less than 1, so it is not a perfect correlation, but it is above 0.5, which often indicates a high correlation. This means that games with higher critic scores also tend to have higher user scores, and vice versa.  While correlation doesn't exactly mean causation, this opens up a potential area of invetistigation.  We will explore this further in the next question."
   ]
  },
  {
   "cell_type": "markdown",
   "metadata": {},
   "source": [
    "# 2. Can we predict a game's user score based on its critic score?\n",
    "One of the main points of interest in video games is determining whether we can predict user satisfaction from professional ratings. Critics and users often have different viewpoints and priorities when rating a game, and it's not always clear whether high critic ratings translate to high user scores."
   ]
  },
  {
   "cell_type": "code",
   "execution_count": 6,
   "metadata": {},
   "outputs": [
    {
     "name": "stdout",
     "output_type": "stream",
     "text": [
      "The r-squared score for the model using only critic score to predict user score was 0.3058264784076601 on 152 values for the training data.\n",
      "The r-squared score for the model using only critic score to predict user score was 0.3619688728786633 on 66 values for the test data.\n"
     ]
    }
   ],
   "source": [
    "# We'll start super simple and just use critic score to predict user score\n",
    "# Create X and y\n",
    "X = game_df[['Critic_Score']]\n",
    "y = game_df['User_Score']\n",
    "\n",
    "# Split into train and test sets\n",
    "X_train, X_test, y_train, y_test = train_test_split(X, y, test_size=.3, random_state=42)\n",
    "\n",
    "# Normalize the data\n",
    "scaler = StandardScaler()\n",
    "X_train = scaler.fit_transform(X_train)\n",
    "X_test = scaler.transform(X_test)\n",
    "\n",
    "# Instantiate and fit model\n",
    "lm_model = LinearRegression()\n",
    "lm_model.fit(X_train, y_train)\n",
    "\n",
    "# Predict using model\n",
    "y_test_preds = lm_model.predict(X_test)\n",
    "y_train_preds = lm_model.predict(X_train)\n",
    "\n",
    "# Score using model\n",
    "test_score = r2_score(y_test, y_test_preds)\n",
    "train_score = r2_score(y_train, y_train_preds)\n",
    "\n",
    "# Print scores\n",
    "print(\"The r-squared score for the model using only critic score to predict user score was {} on {} values for the training data.\".format(train_score, len(y_train)))\n",
    "print(\"The r-squared score for the model using only critic score to predict user score was {} on {} values for the test data.\".format(test_score, len(y_test)))"
   ]
  },
  {
   "cell_type": "markdown",
   "metadata": {},
   "source": [
    "1. The train score of about **0.306** means about **30.6%** of the variance in the dependent variable `User_Score` is predictable from the independent variable `Critic_Score` in the training data.\n",
    "2. The test score of about **0.362** means about **36.2%** of the variance in `User_Score` is predictable from `Critic_Score` in the test data.\n",
    "\n",
    "While these scores indicate that the model has a reasonable level of predictability, there's room for improvement.  To verify this, we can compare the model's predictions to the actual values in the test data."
   ]
  },
  {
   "cell_type": "code",
   "execution_count": 7,
   "metadata": {},
   "outputs": [
    {
     "data": {
      "text/plain": [
       "[<matplotlib.lines.Line2D at 0x1fdfd12f450>]"
      ]
     },
     "execution_count": 7,
     "metadata": {},
     "output_type": "execute_result"
    },
    {
     "data": {
      "image/png": "[encoded data removed]",
      "text/plain": [
       "<Figure size 640x480 with 1 Axes>"
      ]
     },
     "metadata": {},
     "output_type": "display_data"
    }
   ],
   "source": [
    "# Visualize the model\n",
    "plt.scatter(y_test, y_test_preds)\n",
    "plt.xlabel(\"Actual Scores\")\n",
    "plt.ylabel(\"Predicted Scores\")\n",
    "plt.title(\"Actual vs Predicted Scores\")\n",
    "\n",
    "# Get line of best fit\n",
    "z = np.polyfit(y_test, y_test_preds, 1)\n",
    "p = np.poly1d(z)\n",
    "plt.plot(y_test, p(y_test), color='red')"
   ]
  },
  {
   "cell_type": "markdown",
   "metadata": {},
   "source": [
    "We can see here that the points are spread out and clustered away from the line, indicating that the model's predictions are diverging from the actual values and that there is room for improvement.  One way to potentially increase predictability would be to add more features to the model.  Lets do that and test how many features is the optimal amount for this small dataset."
   ]
  },
  {
   "cell_type": "code",
   "execution_count": 8,
   "metadata": {},
   "outputs": [],
   "source": [
    "# Taken from lesson\n",
    "# Used to create dummy variables from categorical variables\n",
    "def create_dummy_df(df, cat_cols, dummy_na):\n",
    "    '''\n",
    "    INPUT:\n",
    "    df - pandas dataframe with categorical variables you want to dummy\n",
    "    cat_cols - list of strings that are associated with names of the categorical columns\n",
    "    dummy_na - Bool holding whether you want to dummy NA vals of categorical columns or not\n",
    "    \n",
    "    OUTPUT:\n",
    "    df - a new dataframe that has the following characteristics:\n",
    "            1. contains all columns that were not specified as categorical\n",
    "            2. removes all the original columns in cat_cols\n",
    "            3. dummy columns for each of the categorical columns in cat_cols\n",
    "            4. if dummy_na is True - it also contains dummy columns for the NaN values\n",
    "            5. Use a prefix of the column name with an underscore (_) for separating \n",
    "    '''\n",
    "    for col in  cat_cols:\n",
    "        try:\n",
    "            # for each cat add dummy var, drop original column\n",
    "            df = pd.concat([df.drop(col, axis=1), pd.get_dummies(df[col], prefix=col, prefix_sep='_', drop_first=True, dummy_na=dummy_na)], axis=1)\n",
    "        except:\n",
    "            continue\n",
    "    return df"
   ]
  },
  {
   "cell_type": "code",
   "execution_count": 9,
   "metadata": {},
   "outputs": [],
   "source": [
    "# Taken from the lesson\n",
    "# Used to find the optimal number of features to use in a linear regression model\n",
    "def find_optimal_lm_mod(X, y, cutoffs, test_size = .30, random_state=42, plot=True):\n",
    "    '''\n",
    "    INPUT\n",
    "    X - pandas dataframe, X matrix\n",
    "    y - pandas dataframe, response variable\n",
    "    cutoffs - list of ints, cutoff for number of non-zero values in dummy categorical vars\n",
    "    test_size - float between 0 and 1, default 0.3, determines the proportion of data as test data\n",
    "    random_state - int, default 42, controls random state for train_test_split\n",
    "    plot - boolean, default 0.3, True to plot result\n",
    "\n",
    "    OUTPUT\n",
    "    r2_scores_test - list of floats of r2 scores on the test data\n",
    "    r2_scores_train - list of floats of r2 scores on the train data\n",
    "    lm_model - model object from sklearn\n",
    "    X_train, X_test, y_train, y_test - output from sklearn train test split used for optimal model\n",
    "    '''\n",
    "    r2_scores_test, r2_scores_train, num_feats, results = [], [], [], dict()\n",
    "    for cutoff in cutoffs:\n",
    "\n",
    "        #reduce X matrix\n",
    "        reduce_X = X.iloc[:, np.where((X.sum() > cutoff) == True)[0]]\n",
    "        num_feats.append(reduce_X.shape[1])\n",
    "        # print(\"Trying {} features\".format(reduce_X.shape[1]))\n",
    "\n",
    "        #split the data into train and test\n",
    "        X_train, X_test, y_train, y_test = train_test_split(reduce_X, y, test_size = test_size, random_state=random_state)\n",
    "\n",
    "        #normalize the data\n",
    "        scaler = StandardScaler()\n",
    "        X_train = scaler.fit_transform(X_train)\n",
    "        X_test = scaler.transform(X_test)\n",
    "\n",
    "        #fit the model and obtain pred response\n",
    "        lm_model = LinearRegression()\n",
    "        lm_model.fit(X_train, y_train)\n",
    "        y_test_preds = lm_model.predict(X_test)\n",
    "        y_train_preds = lm_model.predict(X_train)\n",
    "\n",
    "        #append the r2 value from the test set\n",
    "        r2_scores_test.append(r2_score(y_test, y_test_preds))\n",
    "        r2_scores_train.append(r2_score(y_train, y_train_preds))\n",
    "        results[str(cutoff)] = r2_score(y_test, y_test_preds)\n",
    "\n",
    "    if plot:\n",
    "        plt.plot(num_feats, r2_scores_test, label=\"Test\", alpha=.5)\n",
    "        plt.plot(num_feats, r2_scores_train, label=\"Train\", alpha=.5)\n",
    "        plt.xlabel('Number of Features')\n",
    "        plt.ylabel('Rsquared')\n",
    "        plt.title('Rsquared by Number of Features')\n",
    "        plt.legend(loc=1)\n",
    "        plt.show()\n",
    "\n",
    "    best_cutoff = max(results, key=results.get)\n",
    "\n",
    "    #reduce X matrix\n",
    "    reduce_X = X.iloc[:, np.where((X.sum() > int(best_cutoff)) == True)[0]]\n",
    "    num_feats.append(reduce_X.shape[1])\n",
    "\n",
    "    #split the data into train and test\n",
    "    X_train, X_test, y_train, y_test = train_test_split(reduce_X, y, test_size = test_size, random_state=random_state)\n",
    "\n",
    "    #normalize the data\n",
    "    scaler = StandardScaler()\n",
    "    X_train = scaler.fit_transform(X_train)\n",
    "    X_test = scaler.transform(X_test)\n",
    "\n",
    "    #fit the model\n",
    "    lm_model = LinearRegression()\n",
    "    lm_model.fit(X_train, y_train)\n",
    "\n",
    "    return r2_scores_test, r2_scores_train, lm_model, X_train, X_test, y_train, y_test"
   ]
  },
  {
   "cell_type": "code",
   "execution_count": 10,
   "metadata": {},
   "outputs": [
    {
     "data": {
      "image/png": "[encoded data removed]",
      "text/plain": [
       "<Figure size 640x480 with 1 Axes>"
      ]
     },
     "metadata": {},
     "output_type": "display_data"
    }
   ],
   "source": [
    "# Lets add more features to our model\n",
    "# Create X and y\n",
    "X = game_df[['Critic_Score', 'Genre', 'Platform', 'ESRB_Rating', 'Publisher']]\n",
    "y = game_df['User_Score']\n",
    "\n",
    "# Drop rows with missing genres or platforms\n",
    "X = X.dropna(subset=['Genre', 'Platform', 'ESRB_Rating', 'Publisher'])\n",
    "\n",
    "# Drop same rows from y\n",
    "y = y[X.index]\n",
    "\n",
    "# Create dummy columns\n",
    "X = create_dummy_df(X, ['Genre', 'Platform', 'ESRB_Rating', 'Publisher'], False)\n",
    "\n",
    "# Find optimal number of features\n",
    "cutoffs = [200, 150, 100, 50, 25, 10, 5, 4, 3, 2, 1] # Start at 200 since we have 200+ rows\n",
    "r2_scores_test, r2_scores_train, lm_model, X_train, X_test, y_train, y_test = find_optimal_lm_mod(X, y, cutoffs)"
   ]
  },
  {
   "cell_type": "code",
   "execution_count": 11,
   "metadata": {},
   "outputs": [
    {
     "name": "stdout",
     "output_type": "stream",
     "text": [
      "10\n",
      "0.36819151283592066\n",
      "0.38350425488978745\n"
     ]
    }
   ],
   "source": [
    "print(X_train.shape[1]) #Number of columns\n",
    "print(r2_scores_train[np.argmax(r2_scores_test)]) # The model we should implement train_r2\n",
    "print(r2_scores_test[np.argmax(r2_scores_test)]) # The model we should implement test_r2"
   ]
  },
  {
   "cell_type": "markdown",
   "metadata": {},
   "source": [
    "The above is a case of overfitting.  The training data increases with the number of features but the test data inevitably decreases after a certain amount of features to the point where it's less than the training data.  In this case, we have correlated the increase in the number of features with the model's accuracy. As the number of features increase, the model becomes complex and tends to fit well with the training data, hence the increase in scores. But, the model also becomes overfitted to the training data and learning not just the general patterns, but also the noise and outliers specific to the training data. Therefore, when we test the model with the test data, the accuracy decreases as the model fails to generalize the pattern and is influenced by the specific conditions of the train data.\n",
    "\n",
    "Some things to take away from the above results is:\n",
    "1. The training score of **36.8%** tells us that, with these 10 features, the model can explain nearly 37% of the differences in user scores within the training dataset. This is *6.2% better* than when using just the critic score.\n",
    "2. The test score of **38.3%** indicates that the model can explain about 38% of the differences in user scores in the testing dataset, which is *2.1% better* than just using the critic score.\n",
    "\n",
    "A key takeaway is that adding more relevant features to our model improves the accuracy of its predictions.  However, it's important to note that while the model's predictability has improved, still over 60% of the variation in user scores couldn't be explained by the model. This could mean there are other important variables that are not considered, or it could be an indicator that user scores could be influenced by issues too random or too complex to be neatly captured by our model.\n",
    "\n",
    "Dropping a significant amount of rows might have also had an impact on how this turned out.  We went from 55k rows to a little over 200 due to this line of code:\n",
    " `game_df = game_df.dropna(subset=['Critic_Score', 'User_Score'])` which drops all rows if *either* column is missing data.  This means that most of these rows have missing data in either of these columns.  Lets see if imputing the data has any effect. Or if we should try imputing at all."
   ]
  },
  {
   "cell_type": "code",
   "execution_count": 12,
   "metadata": {},
   "outputs": [
    {
     "name": "stdout",
     "output_type": "stream",
     "text": [
      "(6653, 7)\n"
     ]
    },
    {
     "data": {
      "text/html": [
       "<div>\n",
       "<style scoped>\n",
       "    .dataframe tbody tr th:only-of-type {\n",
       "        vertical-align: middle;\n",
       "    }\n",
       "\n",
       "    .dataframe tbody tr th {\n",
       "        vertical-align: top;\n",
       "    }\n",
       "\n",
       "    .dataframe thead th {\n",
       "        text-align: right;\n",
       "    }\n",
       "</style>\n",
       "<table border=\"1\" class=\"dataframe\">\n",
       "  <thead>\n",
       "    <tr style=\"text-align: right;\">\n",
       "      <th></th>\n",
       "      <th>Name</th>\n",
       "      <th>Genre</th>\n",
       "      <th>ESRB_Rating</th>\n",
       "      <th>Platform</th>\n",
       "      <th>Publisher</th>\n",
       "      <th>Critic_Score</th>\n",
       "      <th>User_Score</th>\n",
       "    </tr>\n",
       "  </thead>\n",
       "  <tbody>\n",
       "    <tr>\n",
       "      <th>0</th>\n",
       "      <td>Wii Sports</td>\n",
       "      <td>Sports</td>\n",
       "      <td>E</td>\n",
       "      <td>Wii</td>\n",
       "      <td>Nintendo</td>\n",
       "      <td>7.7</td>\n",
       "      <td>NaN</td>\n",
       "    </tr>\n",
       "    <tr>\n",
       "      <th>1</th>\n",
       "      <td>Super Mario Bros.</td>\n",
       "      <td>Platform</td>\n",
       "      <td>NaN</td>\n",
       "      <td>NES</td>\n",
       "      <td>Nintendo</td>\n",
       "      <td>10.0</td>\n",
       "      <td>NaN</td>\n",
       "    </tr>\n",
       "    <tr>\n",
       "      <th>2</th>\n",
       "      <td>Mario Kart Wii</td>\n",
       "      <td>Racing</td>\n",
       "      <td>E</td>\n",
       "      <td>Wii</td>\n",
       "      <td>Nintendo</td>\n",
       "      <td>8.2</td>\n",
       "      <td>9.1</td>\n",
       "    </tr>\n",
       "    <tr>\n",
       "      <th>3</th>\n",
       "      <td>Wii Sports Resort</td>\n",
       "      <td>Sports</td>\n",
       "      <td>E</td>\n",
       "      <td>Wii</td>\n",
       "      <td>Nintendo</td>\n",
       "      <td>8.0</td>\n",
       "      <td>8.8</td>\n",
       "    </tr>\n",
       "    <tr>\n",
       "      <th>4</th>\n",
       "      <td>Pokemon Red / Green / Blue Version</td>\n",
       "      <td>Role-Playing</td>\n",
       "      <td>E</td>\n",
       "      <td>GB</td>\n",
       "      <td>Nintendo</td>\n",
       "      <td>9.4</td>\n",
       "      <td>NaN</td>\n",
       "    </tr>\n",
       "  </tbody>\n",
       "</table>\n",
       "</div>"
      ],
      "text/plain": [
       "                                 Name         Genre ESRB_Rating Platform  \\\n",
       "0                          Wii Sports        Sports           E      Wii   \n",
       "1                   Super Mario Bros.      Platform         NaN      NES   \n",
       "2                      Mario Kart Wii        Racing           E      Wii   \n",
       "3                   Wii Sports Resort        Sports           E      Wii   \n",
       "4  Pokemon Red / Green / Blue Version  Role-Playing           E       GB   \n",
       "\n",
       "  Publisher  Critic_Score  User_Score  \n",
       "0  Nintendo           7.7         NaN  \n",
       "1  Nintendo          10.0         NaN  \n",
       "2  Nintendo           8.2         9.1  \n",
       "3  Nintendo           8.0         8.8  \n",
       "4  Nintendo           9.4         NaN  "
      ]
     },
     "execution_count": 12,
     "metadata": {},
     "output_type": "execute_result"
    }
   ],
   "source": [
    "# Get relevant columns\n",
    "game_df_impute = df[['Name', 'Genre', 'ESRB_Rating', 'Platform', 'Publisher', 'Critic_Score', 'User_Score']]\n",
    "\n",
    "# Drop rows if both critic or user scores are missing\n",
    "game_df_impute = game_df_impute.dropna(subset=['Critic_Score', 'User_Score'], how='all')\n",
    "\n",
    "# Reset index\n",
    "game_df_impute.reset_index(drop=True, inplace=True)\n",
    "\n",
    "print(game_df_impute.shape) # 6653 rows, 7 columns\n",
    "game_df_impute.head()"
   ]
  },
  {
   "cell_type": "code",
   "execution_count": 13,
   "metadata": {},
   "outputs": [
    {
     "data": {
      "text/html": [
       "<div>\n",
       "<style scoped>\n",
       "    .dataframe tbody tr th:only-of-type {\n",
       "        vertical-align: middle;\n",
       "    }\n",
       "\n",
       "    .dataframe tbody tr th {\n",
       "        vertical-align: top;\n",
       "    }\n",
       "\n",
       "    .dataframe thead th {\n",
       "        text-align: right;\n",
       "    }\n",
       "</style>\n",
       "<table border=\"1\" class=\"dataframe\">\n",
       "  <thead>\n",
       "    <tr style=\"text-align: right;\">\n",
       "      <th></th>\n",
       "      <th>column</th>\n",
       "      <th>missing</th>\n",
       "    </tr>\n",
       "  </thead>\n",
       "  <tbody>\n",
       "    <tr>\n",
       "      <th>0</th>\n",
       "      <td>Name</td>\n",
       "      <td>0.000000</td>\n",
       "    </tr>\n",
       "    <tr>\n",
       "      <th>1</th>\n",
       "      <td>Genre</td>\n",
       "      <td>0.000000</td>\n",
       "    </tr>\n",
       "    <tr>\n",
       "      <th>2</th>\n",
       "      <td>ESRB_Rating</td>\n",
       "      <td>0.070495</td>\n",
       "    </tr>\n",
       "    <tr>\n",
       "      <th>3</th>\n",
       "      <td>Platform</td>\n",
       "      <td>0.000000</td>\n",
       "    </tr>\n",
       "    <tr>\n",
       "      <th>4</th>\n",
       "      <td>Publisher</td>\n",
       "      <td>0.000000</td>\n",
       "    </tr>\n",
       "    <tr>\n",
       "      <th>5</th>\n",
       "      <td>Critic_Score</td>\n",
       "      <td>0.017586</td>\n",
       "    </tr>\n",
       "    <tr>\n",
       "      <th>6</th>\n",
       "      <td>User_Score</td>\n",
       "      <td>0.949647</td>\n",
       "    </tr>\n",
       "  </tbody>\n",
       "</table>\n",
       "</div>"
      ],
      "text/plain": [
       "         column   missing\n",
       "0          Name  0.000000\n",
       "1         Genre  0.000000\n",
       "2   ESRB_Rating  0.070495\n",
       "3      Platform  0.000000\n",
       "4     Publisher  0.000000\n",
       "5  Critic_Score  0.017586\n",
       "6    User_Score  0.949647"
      ]
     },
     "execution_count": 13,
     "metadata": {},
     "output_type": "execute_result"
    }
   ],
   "source": [
    "# Lets look at the proportion of missing values in each column\n",
    "game_df_impute.isnull().mean().reset_index().rename(columns={'index':'column', 0:'missing'})"
   ]
  },
  {
   "cell_type": "markdown",
   "metadata": {},
   "source": [
    "As shown above, a majority of the user scores are missing while only a few of the critic scores are missing.  Imputing all of these would probably create a huge bias for the user scores.  While imputing data is usually helpful with a certain amount of missing data, it's less effective (and potentially misleading) when a large portion of the data is missing.  For this data set, it is not possible to effectively predict whether a user's score is based off a critic score or other factors."
   ]
  },
  {
   "cell_type": "markdown",
   "metadata": {},
   "source": [
    "# 3. What's the average global sales for each game genre, ESRB rating, and platform?\n",
    "When examining the video gaming market, one of the key areas of study centers around understanding what contributes to a game's sales performance. Sales figures can be influenced by a variety of factors ranging from the game's quality to its marketing strategy. However, certain trends seem to persist such as the genre of the game, the platform it's released on, and its ESRB rating, which can all have a substantial impact on its global sales.\n",
    "  \n",
    "A high average sales value for a category would indicate that a typical game in that category tends to sell well. This can be very useful when you're trying to identify genres or platforms that consistently perform well in the market, regardless of how many games there are in that category."
   ]
  },
  {
   "cell_type": "code",
   "execution_count": 14,
   "metadata": {},
   "outputs": [
    {
     "name": "stdout",
     "output_type": "stream",
     "text": [
      "(13810, 5)\n"
     ]
    },
    {
     "data": {
      "text/html": [
       "<div>\n",
       "<style scoped>\n",
       "    .dataframe tbody tr th:only-of-type {\n",
       "        vertical-align: middle;\n",
       "    }\n",
       "\n",
       "    .dataframe tbody tr th {\n",
       "        vertical-align: top;\n",
       "    }\n",
       "\n",
       "    .dataframe thead th {\n",
       "        text-align: right;\n",
       "    }\n",
       "</style>\n",
       "<table border=\"1\" class=\"dataframe\">\n",
       "  <thead>\n",
       "    <tr style=\"text-align: right;\">\n",
       "      <th></th>\n",
       "      <th>Name</th>\n",
       "      <th>Genre</th>\n",
       "      <th>ESRB_Rating</th>\n",
       "      <th>Platform</th>\n",
       "      <th>Global_Sales</th>\n",
       "    </tr>\n",
       "  </thead>\n",
       "  <tbody>\n",
       "    <tr>\n",
       "      <th>0</th>\n",
       "      <td>Grand Theft Auto V</td>\n",
       "      <td>Action</td>\n",
       "      <td>M</td>\n",
       "      <td>PS3</td>\n",
       "      <td>20.32</td>\n",
       "    </tr>\n",
       "    <tr>\n",
       "      <th>1</th>\n",
       "      <td>Grand Theft Auto V</td>\n",
       "      <td>Action</td>\n",
       "      <td>M</td>\n",
       "      <td>PS4</td>\n",
       "      <td>19.39</td>\n",
       "    </tr>\n",
       "    <tr>\n",
       "      <th>2</th>\n",
       "      <td>Grand Theft Auto: Vice City</td>\n",
       "      <td>Action</td>\n",
       "      <td>M</td>\n",
       "      <td>PS2</td>\n",
       "      <td>16.15</td>\n",
       "    </tr>\n",
       "    <tr>\n",
       "      <th>3</th>\n",
       "      <td>Grand Theft Auto V</td>\n",
       "      <td>Action</td>\n",
       "      <td>M</td>\n",
       "      <td>X360</td>\n",
       "      <td>15.86</td>\n",
       "    </tr>\n",
       "    <tr>\n",
       "      <th>4</th>\n",
       "      <td>Call of Duty: Black Ops 3</td>\n",
       "      <td>Shooter</td>\n",
       "      <td>M</td>\n",
       "      <td>PS4</td>\n",
       "      <td>15.09</td>\n",
       "    </tr>\n",
       "  </tbody>\n",
       "</table>\n",
       "</div>"
      ],
      "text/plain": [
       "                          Name    Genre ESRB_Rating Platform  Global_Sales\n",
       "0           Grand Theft Auto V   Action           M      PS3         20.32\n",
       "1           Grand Theft Auto V   Action           M      PS4         19.39\n",
       "2  Grand Theft Auto: Vice City   Action           M      PS2         16.15\n",
       "3           Grand Theft Auto V   Action           M     X360         15.86\n",
       "4    Call of Duty: Black Ops 3  Shooter           M      PS4         15.09"
      ]
     },
     "execution_count": 14,
     "metadata": {},
     "output_type": "execute_result"
    }
   ],
   "source": [
    "# Get relevant columns\n",
    "game_df_sales = df[['Name', 'Genre', 'ESRB_Rating', 'Platform', 'Global_Sales']]\n",
    "\n",
    "# Drop rows if ESRB rating or global sales are missing - these are the only columns with missing values\n",
    "game_df_sales = game_df_sales.dropna(subset=['ESRB_Rating', 'Global_Sales'])\n",
    "\n",
    "# Reset index\n",
    "game_df_sales.reset_index(drop=True, inplace=True)\n",
    "\n",
    "print(game_df_sales.shape)\n",
    "game_df_sales.head()"
   ]
  },
  {
   "cell_type": "code",
   "execution_count": 15,
   "metadata": {},
   "outputs": [
    {
     "data": {
      "text/plain": [
       "Text(0.5, 0, 'Global Sales (millions)')"
      ]
     },
     "execution_count": 15,
     "metadata": {},
     "output_type": "execute_result"
    },
    {
     "data": {
      "image/png": "[encoded data removed]",
      "text/plain": [
       "<Figure size 640x480 with 1 Axes>"
      ]
     },
     "metadata": {},
     "output_type": "display_data"
    }
   ],
   "source": [
    "# Create a bar plot of global sales by genre to get the average global sales for each genre\n",
    "sns.barplot(data=game_df_sales, x='Global_Sales', y='Genre', errorbar=None, orient='h', order=game_df_sales.groupby('Genre')['Global_Sales'].mean().sort_values(ascending=False).index)\n",
    "plt.title(\"Average Global Sales by Genre\")\n",
    "plt.ylabel(\"Genre\")\n",
    "plt.xlabel(\"Global Sales (millions)\")"
   ]
  },
  {
   "cell_type": "markdown",
   "metadata": {},
   "source": [
    "Wow!  That's a huge discrepancy for the sandbox games!  Let's check out the table below for some more concrete values."
   ]
  },
  {
   "cell_type": "code",
   "execution_count": 16,
   "metadata": {},
   "outputs": [
    {
     "data": {
      "text/html": [
       "<div>\n",
       "<style scoped>\n",
       "    .dataframe tbody tr th:only-of-type {\n",
       "        vertical-align: middle;\n",
       "    }\n",
       "\n",
       "    .dataframe tbody tr th {\n",
       "        vertical-align: top;\n",
       "    }\n",
       "\n",
       "    .dataframe thead th {\n",
       "        text-align: right;\n",
       "    }\n",
       "</style>\n",
       "<table border=\"1\" class=\"dataframe\">\n",
       "  <thead>\n",
       "    <tr style=\"text-align: right;\">\n",
       "      <th></th>\n",
       "      <th>Genre</th>\n",
       "      <th>Global_Sales</th>\n",
       "    </tr>\n",
       "  </thead>\n",
       "  <tbody>\n",
       "    <tr>\n",
       "      <th>14</th>\n",
       "      <td>Sandbox</td>\n",
       "      <td>1.890000</td>\n",
       "    </tr>\n",
       "    <tr>\n",
       "      <th>15</th>\n",
       "      <td>Shooter</td>\n",
       "      <td>0.727619</td>\n",
       "    </tr>\n",
       "    <tr>\n",
       "      <th>1</th>\n",
       "      <td>Action-Adventure</td>\n",
       "      <td>0.659267</td>\n",
       "    </tr>\n",
       "    <tr>\n",
       "      <th>17</th>\n",
       "      <td>Sports</td>\n",
       "      <td>0.544507</td>\n",
       "    </tr>\n",
       "    <tr>\n",
       "      <th>0</th>\n",
       "      <td>Action</td>\n",
       "      <td>0.496348</td>\n",
       "    </tr>\n",
       "    <tr>\n",
       "      <th>5</th>\n",
       "      <td>Fighting</td>\n",
       "      <td>0.487127</td>\n",
       "    </tr>\n",
       "    <tr>\n",
       "      <th>8</th>\n",
       "      <td>Music</td>\n",
       "      <td>0.450000</td>\n",
       "    </tr>\n",
       "    <tr>\n",
       "      <th>6</th>\n",
       "      <td>MMO</td>\n",
       "      <td>0.440870</td>\n",
       "    </tr>\n",
       "    <tr>\n",
       "      <th>10</th>\n",
       "      <td>Platform</td>\n",
       "      <td>0.439953</td>\n",
       "    </tr>\n",
       "    <tr>\n",
       "      <th>13</th>\n",
       "      <td>Role-Playing</td>\n",
       "      <td>0.409504</td>\n",
       "    </tr>\n",
       "    <tr>\n",
       "      <th>12</th>\n",
       "      <td>Racing</td>\n",
       "      <td>0.407807</td>\n",
       "    </tr>\n",
       "    <tr>\n",
       "      <th>7</th>\n",
       "      <td>Misc</td>\n",
       "      <td>0.398235</td>\n",
       "    </tr>\n",
       "    <tr>\n",
       "      <th>16</th>\n",
       "      <td>Simulation</td>\n",
       "      <td>0.351070</td>\n",
       "    </tr>\n",
       "    <tr>\n",
       "      <th>2</th>\n",
       "      <td>Adventure</td>\n",
       "      <td>0.312542</td>\n",
       "    </tr>\n",
       "    <tr>\n",
       "      <th>3</th>\n",
       "      <td>Board Game</td>\n",
       "      <td>0.300000</td>\n",
       "    </tr>\n",
       "    <tr>\n",
       "      <th>9</th>\n",
       "      <td>Party</td>\n",
       "      <td>0.221818</td>\n",
       "    </tr>\n",
       "    <tr>\n",
       "      <th>11</th>\n",
       "      <td>Puzzle</td>\n",
       "      <td>0.194358</td>\n",
       "    </tr>\n",
       "    <tr>\n",
       "      <th>18</th>\n",
       "      <td>Strategy</td>\n",
       "      <td>0.189339</td>\n",
       "    </tr>\n",
       "    <tr>\n",
       "      <th>4</th>\n",
       "      <td>Education</td>\n",
       "      <td>0.090000</td>\n",
       "    </tr>\n",
       "    <tr>\n",
       "      <th>19</th>\n",
       "      <td>Visual Novel</td>\n",
       "      <td>0.060526</td>\n",
       "    </tr>\n",
       "  </tbody>\n",
       "</table>\n",
       "</div>"
      ],
      "text/plain": [
       "               Genre  Global_Sales\n",
       "14           Sandbox      1.890000\n",
       "15           Shooter      0.727619\n",
       "1   Action-Adventure      0.659267\n",
       "17            Sports      0.544507\n",
       "0             Action      0.496348\n",
       "5           Fighting      0.487127\n",
       "8              Music      0.450000\n",
       "6                MMO      0.440870\n",
       "10          Platform      0.439953\n",
       "13      Role-Playing      0.409504\n",
       "12            Racing      0.407807\n",
       "7               Misc      0.398235\n",
       "16        Simulation      0.351070\n",
       "2          Adventure      0.312542\n",
       "3         Board Game      0.300000\n",
       "9              Party      0.221818\n",
       "11            Puzzle      0.194358\n",
       "18          Strategy      0.189339\n",
       "4          Education      0.090000\n",
       "19      Visual Novel      0.060526"
      ]
     },
     "execution_count": 16,
     "metadata": {},
     "output_type": "execute_result"
    }
   ],
   "source": [
    "# Get table of average global sales by genre\n",
    "game_df_genre_table = game_df_sales[['Genre', 'Global_Sales']].groupby('Genre')['Global_Sales'].mean().reset_index()\n",
    "game_df_genre_table.sort_values(by='Global_Sales', ascending=False)"
   ]
  },
  {
   "cell_type": "markdown",
   "metadata": {},
   "source": [
    "Looks like the sandbox games have an average of 1.89 million global sales flat.  Looking at the table, we also see music, board game, and education also have flat values.  For now lets just look at how many sandbox games there are."
   ]
  },
  {
   "cell_type": "code",
   "execution_count": 17,
   "metadata": {},
   "outputs": [
    {
     "data": {
      "text/html": [
       "<div>\n",
       "<style scoped>\n",
       "    .dataframe tbody tr th:only-of-type {\n",
       "        vertical-align: middle;\n",
       "    }\n",
       "\n",
       "    .dataframe tbody tr th {\n",
       "        vertical-align: top;\n",
       "    }\n",
       "\n",
       "    .dataframe thead th {\n",
       "        text-align: right;\n",
       "    }\n",
       "</style>\n",
       "<table border=\"1\" class=\"dataframe\">\n",
       "  <thead>\n",
       "    <tr style=\"text-align: right;\">\n",
       "      <th></th>\n",
       "      <th>Name</th>\n",
       "      <th>Genre</th>\n",
       "      <th>ESRB_Rating</th>\n",
       "      <th>Platform</th>\n",
       "      <th>Global_Sales</th>\n",
       "    </tr>\n",
       "  </thead>\n",
       "  <tbody>\n",
       "    <tr>\n",
       "      <th>610</th>\n",
       "      <td>Minecraft</td>\n",
       "      <td>Sandbox</td>\n",
       "      <td>E10</td>\n",
       "      <td>NS</td>\n",
       "      <td>1.89</td>\n",
       "    </tr>\n",
       "  </tbody>\n",
       "</table>\n",
       "</div>"
      ],
      "text/plain": [
       "          Name    Genre ESRB_Rating Platform  Global_Sales\n",
       "610  Minecraft  Sandbox         E10       NS          1.89"
      ]
     },
     "execution_count": 17,
     "metadata": {},
     "output_type": "execute_result"
    }
   ],
   "source": [
    "# Get all sandbox games\n",
    "game_df_sales[game_df_sales['Genre'] == 'Sandbox']"
   ]
  },
  {
   "cell_type": "markdown",
   "metadata": {},
   "source": [
    "Looks like Minecraft is the only sandbox game which would account for the skewed results.  Lets look at a cat plot to see how many games there are by genre."
   ]
  },
  {
   "cell_type": "code",
   "execution_count": 18,
   "metadata": {},
   "outputs": [
    {
     "data": {
      "text/plain": [
       "Text(0.5, 9.444444444444438, 'Global Sales (millions)')"
      ]
     },
     "execution_count": 18,
     "metadata": {},
     "output_type": "execute_result"
    },
    {
     "data": {
      "image/png": "[encoded data removed]",
      "text/plain": [
       "<Figure size 500x500 with 1 Axes>"
      ]
     },
     "metadata": {},
     "output_type": "display_data"
    }
   ],
   "source": [
    "# Create a cat plot of global sales by genre to see how many games are in each genre\n",
    "sns.catplot(data=game_df_sales, x='Global_Sales', y='Genre', orient='h')\n",
    "plt.title(\"Global Sales by Genre\")\n",
    "plt.ylabel(\"Genre\")\n",
    "plt.xlabel(\"Global Sales (millions)\")"
   ]
  },
  {
   "cell_type": "markdown",
   "metadata": {},
   "source": [
    "Looks like sandbox is one of the smallests genres in the dataset.  This means that the average global sales for sandbox games is skewed by the fact that there is only one game in that genre.  Lets drop any genre that has only one game."
   ]
  },
  {
   "cell_type": "code",
   "execution_count": 19,
   "metadata": {},
   "outputs": [
    {
     "data": {
      "text/plain": [
       "Text(0.5, 0, 'Global Sales (millions)')"
      ]
     },
     "execution_count": 19,
     "metadata": {},
     "output_type": "execute_result"
    },
    {
     "data": {
      "image/png": "[encoded data removed]",
      "text/plain": [
       "<Figure size 640x480 with 1 Axes>"
      ]
     },
     "metadata": {},
     "output_type": "display_data"
    }
   ],
   "source": [
    "# If the number of genres is one, drop the row\n",
    "game_df_genre = game_df_sales.groupby('Genre')['Global_Sales'].count().reset_index()\n",
    "game_df_genre = game_df_genre[game_df_genre['Global_Sales'] > 1]\n",
    "\n",
    "# Get all genres that have more than 1 game\n",
    "game_df_genre = game_df_sales[game_df_sales['Genre'].isin(game_df_genre['Genre'])]\n",
    "\n",
    "# Create a bar plot of global sales by genre to get the average global sales for each genre\n",
    "sns.barplot(data=game_df_genre, x='Global_Sales', y='Genre', errorbar=None, orient='h', order=game_df_genre.groupby('Genre')['Global_Sales'].mean().sort_values(ascending=False).index)\n",
    "plt.title(\"Average Global Sales by Genre\")\n",
    "plt.ylabel(\"Genre\")\n",
    "plt.xlabel(\"Global Sales (millions)\")"
   ]
  },
  {
   "cell_type": "code",
   "execution_count": 20,
   "metadata": {},
   "outputs": [
    {
     "data": {
      "text/html": [
       "<div>\n",
       "<style scoped>\n",
       "    .dataframe tbody tr th:only-of-type {\n",
       "        vertical-align: middle;\n",
       "    }\n",
       "\n",
       "    .dataframe tbody tr th {\n",
       "        vertical-align: top;\n",
       "    }\n",
       "\n",
       "    .dataframe thead th {\n",
       "        text-align: right;\n",
       "    }\n",
       "</style>\n",
       "<table border=\"1\" class=\"dataframe\">\n",
       "  <thead>\n",
       "    <tr style=\"text-align: right;\">\n",
       "      <th></th>\n",
       "      <th>Genre</th>\n",
       "      <th>Global_Sales</th>\n",
       "    </tr>\n",
       "  </thead>\n",
       "  <tbody>\n",
       "    <tr>\n",
       "      <th>12</th>\n",
       "      <td>Shooter</td>\n",
       "      <td>0.727619</td>\n",
       "    </tr>\n",
       "    <tr>\n",
       "      <th>1</th>\n",
       "      <td>Action-Adventure</td>\n",
       "      <td>0.659267</td>\n",
       "    </tr>\n",
       "    <tr>\n",
       "      <th>14</th>\n",
       "      <td>Sports</td>\n",
       "      <td>0.544507</td>\n",
       "    </tr>\n",
       "  </tbody>\n",
       "</table>\n",
       "</div>"
      ],
      "text/plain": [
       "               Genre  Global_Sales\n",
       "12           Shooter      0.727619\n",
       "1   Action-Adventure      0.659267\n",
       "14            Sports      0.544507"
      ]
     },
     "execution_count": 20,
     "metadata": {},
     "output_type": "execute_result"
    }
   ],
   "source": [
    "# Get the top 3 genres\n",
    "game_df_genre.groupby('Genre')['Global_Sales'].mean().reset_index().sort_values(by='Global_Sales', ascending=False)[:3]"
   ]
  },
  {
   "cell_type": "markdown",
   "metadata": {},
   "source": [
    "This graph is much more representative of the data.  We can see that the **shooter** genre had the highest average global sales followed by **action-adventure** and **sports**.  This shows how likely it is for these genres to sell on average.  Lets check out the ESRB ratings next."
   ]
  },
  {
   "cell_type": "code",
   "execution_count": 21,
   "metadata": {},
   "outputs": [
    {
     "data": {
      "text/plain": [
       "Text(0, 0.5, 'Global Sales (millions)')"
      ]
     },
     "execution_count": 21,
     "metadata": {},
     "output_type": "execute_result"
    },
    {
     "data": {
      "image/png": "[encoded data removed]",
      "text/plain": [
       "<Figure size 640x480 with 1 Axes>"
      ]
     },
     "metadata": {},
     "output_type": "display_data"
    }
   ],
   "source": [
    "# Create a bar plot of global sales by ESRB rating to get the average global sales for each genre\n",
    "sns.barplot(data=game_df_sales, x='ESRB_Rating', y='Global_Sales', errorbar=None, order=game_df_sales.groupby('ESRB_Rating')['Global_Sales'].mean().sort_values(ascending=False).index)\n",
    "plt.title(\"Average Global Sales by ESRB Rating\")\n",
    "plt.xlabel(\"ESRB Rating\")\n",
    "plt.ylabel(\"Global Sales (millions)\")"
   ]
  },
  {
   "cell_type": "code",
   "execution_count": 22,
   "metadata": {},
   "outputs": [
    {
     "data": {
      "text/html": [
       "<div>\n",
       "<style scoped>\n",
       "    .dataframe tbody tr th:only-of-type {\n",
       "        vertical-align: middle;\n",
       "    }\n",
       "\n",
       "    .dataframe tbody tr th {\n",
       "        vertical-align: top;\n",
       "    }\n",
       "\n",
       "    .dataframe thead th {\n",
       "        text-align: right;\n",
       "    }\n",
       "</style>\n",
       "<table border=\"1\" class=\"dataframe\">\n",
       "  <thead>\n",
       "    <tr style=\"text-align: right;\">\n",
       "      <th></th>\n",
       "      <th>ESRB_Rating</th>\n",
       "      <th>mean</th>\n",
       "      <th>count</th>\n",
       "    </tr>\n",
       "  </thead>\n",
       "  <tbody>\n",
       "    <tr>\n",
       "      <th>3</th>\n",
       "      <td>M</td>\n",
       "      <td>0.782589</td>\n",
       "      <td>2059</td>\n",
       "    </tr>\n",
       "    <tr>\n",
       "      <th>5</th>\n",
       "      <td>T</td>\n",
       "      <td>0.408834</td>\n",
       "      <td>3953</td>\n",
       "    </tr>\n",
       "    <tr>\n",
       "      <th>0</th>\n",
       "      <td>E</td>\n",
       "      <td>0.397233</td>\n",
       "      <td>5883</td>\n",
       "    </tr>\n",
       "    <tr>\n",
       "      <th>1</th>\n",
       "      <td>E10</td>\n",
       "      <td>0.387549</td>\n",
       "      <td>1844</td>\n",
       "    </tr>\n",
       "    <tr>\n",
       "      <th>2</th>\n",
       "      <td>EC</td>\n",
       "      <td>0.198148</td>\n",
       "      <td>27</td>\n",
       "    </tr>\n",
       "    <tr>\n",
       "      <th>4</th>\n",
       "      <td>RP</td>\n",
       "      <td>0.154091</td>\n",
       "      <td>44</td>\n",
       "    </tr>\n",
       "  </tbody>\n",
       "</table>\n",
       "</div>"
      ],
      "text/plain": [
       "  ESRB_Rating      mean  count\n",
       "3           M  0.782589   2059\n",
       "5           T  0.408834   3953\n",
       "0           E  0.397233   5883\n",
       "1         E10  0.387549   1844\n",
       "2          EC  0.198148     27\n",
       "4          RP  0.154091     44"
      ]
     },
     "execution_count": 22,
     "metadata": {},
     "output_type": "execute_result"
    }
   ],
   "source": [
    "# Get table of average global sales and count by ESRB rating\n",
    "game_df_esrb_table = game_df_sales[['ESRB_Rating', 'Global_Sales']].groupby('ESRB_Rating')['Global_Sales'].agg(['mean', 'count']).reset_index().sort_values(by='mean', ascending=False)\n",
    "game_df_esrb_table"
   ]
  },
  {
   "cell_type": "markdown",
   "metadata": {},
   "source": [
    "We can see based on the above graph and table that **M** rated games have the highest average global sales followed by **T** and **E**.  This shows that the more mature the content, the more likely it is that the game is going to sell.  It could also mean that the audience that is buying the games are more mature compared to some of the other, more child friendly games.  Despite there being more **E** and **T** rated games, the **M** rated games are still selling more on average by a significant amount.  It makes sense that **EC** and **RP** rated games are not selling as much since they are not as common.  Finally, lets check out the platforms."
   ]
  },
  {
   "cell_type": "code",
   "execution_count": 23,
   "metadata": {},
   "outputs": [
    {
     "data": {
      "text/plain": [
       "Text(0.5, 0, 'Global Sales (millions)')"
      ]
     },
     "execution_count": 23,
     "metadata": {},
     "output_type": "execute_result"
    },
    {
     "data": {
      "image/png": "[encoded data removed]",
      "text/plain": [
       "<Figure size 640x480 with 1 Axes>"
      ]
     },
     "metadata": {},
     "output_type": "display_data"
    }
   ],
   "source": [
    "# Drop any columns that aren't consoles\n",
    "not_consoles = ['PSN', 'XBL', 'VC']\n",
    "game_df_platform = game_df_sales[~game_df_sales['Platform'].isin(not_consoles)]\n",
    "\n",
    "# Create a bar plot of global sales by platform to get the average global sales for each genre\n",
    "sns.barplot(data=game_df_platform, x='Global_Sales', y='Platform', errorbar=None, orient='h' , order=game_df_platform.groupby('Platform')['Global_Sales'].mean().sort_values(ascending=False).index)\n",
    "plt.title(\"Average Global Sales by Platform\")\n",
    "plt.ylabel(\"Platform\")\n",
    "plt.xlabel(\"Global Sales (millions)\")"
   ]
  },
  {
   "cell_type": "markdown",
   "metadata": {},
   "source": [
    "We dropped the columns, **PSN** (Playstation Network), **XBL** (Xbox Live), and **VC** (Virtual Console) because they are not game consoles, but are included in video gaming datasets because games can be released/distributed in those networks.  **PC** and **OSX** are both mainstream computer systems where games can be played, so these stay in.\n",
    "\n",
    "Since there are so many platforms, it's possible we have skewed data just like the genres.  Lets check out the table below to see if that's the case."
   ]
  },
  {
   "cell_type": "code",
   "execution_count": 24,
   "metadata": {},
   "outputs": [
    {
     "data": {
      "text/html": [
       "<div>\n",
       "<style scoped>\n",
       "    .dataframe tbody tr th:only-of-type {\n",
       "        vertical-align: middle;\n",
       "    }\n",
       "\n",
       "    .dataframe tbody tr th {\n",
       "        vertical-align: top;\n",
       "    }\n",
       "\n",
       "    .dataframe thead th {\n",
       "        text-align: right;\n",
       "    }\n",
       "</style>\n",
       "<table border=\"1\" class=\"dataframe\">\n",
       "  <thead>\n",
       "    <tr style=\"text-align: right;\">\n",
       "      <th></th>\n",
       "      <th>Platform</th>\n",
       "      <th>mean</th>\n",
       "      <th>count</th>\n",
       "    </tr>\n",
       "  </thead>\n",
       "  <tbody>\n",
       "    <tr>\n",
       "      <th>6</th>\n",
       "      <td>GBC</td>\n",
       "      <td>1.446667</td>\n",
       "      <td>3</td>\n",
       "    </tr>\n",
       "    <tr>\n",
       "      <th>8</th>\n",
       "      <td>GEN</td>\n",
       "      <td>1.065000</td>\n",
       "      <td>4</td>\n",
       "    </tr>\n",
       "    <tr>\n",
       "      <th>15</th>\n",
       "      <td>PS3</td>\n",
       "      <td>0.846769</td>\n",
       "      <td>1012</td>\n",
       "    </tr>\n",
       "    <tr>\n",
       "      <th>16</th>\n",
       "      <td>PS4</td>\n",
       "      <td>0.822613</td>\n",
       "      <td>643</td>\n",
       "    </tr>\n",
       "    <tr>\n",
       "      <th>25</th>\n",
       "      <td>X360</td>\n",
       "      <td>0.761654</td>\n",
       "      <td>1143</td>\n",
       "    </tr>\n",
       "    <tr>\n",
       "      <th>14</th>\n",
       "      <td>PS2</td>\n",
       "      <td>0.616620</td>\n",
       "      <td>1660</td>\n",
       "    </tr>\n",
       "    <tr>\n",
       "      <th>27</th>\n",
       "      <td>XOne</td>\n",
       "      <td>0.610939</td>\n",
       "      <td>426</td>\n",
       "    </tr>\n",
       "    <tr>\n",
       "      <th>21</th>\n",
       "      <td>SNES</td>\n",
       "      <td>0.596316</td>\n",
       "      <td>19</td>\n",
       "    </tr>\n",
       "    <tr>\n",
       "      <th>13</th>\n",
       "      <td>PS</td>\n",
       "      <td>0.579388</td>\n",
       "      <td>948</td>\n",
       "    </tr>\n",
       "    <tr>\n",
       "      <th>4</th>\n",
       "      <td>GB</td>\n",
       "      <td>0.538947</td>\n",
       "      <td>19</td>\n",
       "    </tr>\n",
       "    <tr>\n",
       "      <th>23</th>\n",
       "      <td>Wii</td>\n",
       "      <td>0.409544</td>\n",
       "      <td>1162</td>\n",
       "    </tr>\n",
       "    <tr>\n",
       "      <th>2</th>\n",
       "      <td>DC</td>\n",
       "      <td>0.382069</td>\n",
       "      <td>29</td>\n",
       "    </tr>\n",
       "    <tr>\n",
       "      <th>9</th>\n",
       "      <td>N64</td>\n",
       "      <td>0.365391</td>\n",
       "      <td>256</td>\n",
       "    </tr>\n",
       "    <tr>\n",
       "      <th>17</th>\n",
       "      <td>PSP</td>\n",
       "      <td>0.351290</td>\n",
       "      <td>628</td>\n",
       "    </tr>\n",
       "    <tr>\n",
       "      <th>1</th>\n",
       "      <td>3DS</td>\n",
       "      <td>0.289832</td>\n",
       "      <td>298</td>\n",
       "    </tr>\n",
       "    <tr>\n",
       "      <th>26</th>\n",
       "      <td>XB</td>\n",
       "      <td>0.280561</td>\n",
       "      <td>838</td>\n",
       "    </tr>\n",
       "    <tr>\n",
       "      <th>24</th>\n",
       "      <td>WiiU</td>\n",
       "      <td>0.269008</td>\n",
       "      <td>131</td>\n",
       "    </tr>\n",
       "    <tr>\n",
       "      <th>3</th>\n",
       "      <td>DS</td>\n",
       "      <td>0.256910</td>\n",
       "      <td>1602</td>\n",
       "    </tr>\n",
       "    <tr>\n",
       "      <th>19</th>\n",
       "      <td>SAT</td>\n",
       "      <td>0.254262</td>\n",
       "      <td>61</td>\n",
       "    </tr>\n",
       "    <tr>\n",
       "      <th>5</th>\n",
       "      <td>GBA</td>\n",
       "      <td>0.253807</td>\n",
       "      <td>796</td>\n",
       "    </tr>\n",
       "    <tr>\n",
       "      <th>10</th>\n",
       "      <td>NS</td>\n",
       "      <td>0.233969</td>\n",
       "      <td>194</td>\n",
       "    </tr>\n",
       "    <tr>\n",
       "      <th>7</th>\n",
       "      <td>GC</td>\n",
       "      <td>0.232086</td>\n",
       "      <td>513</td>\n",
       "    </tr>\n",
       "    <tr>\n",
       "      <th>18</th>\n",
       "      <td>PSV</td>\n",
       "      <td>0.229086</td>\n",
       "      <td>186</td>\n",
       "    </tr>\n",
       "    <tr>\n",
       "      <th>12</th>\n",
       "      <td>PC</td>\n",
       "      <td>0.143104</td>\n",
       "      <td>1208</td>\n",
       "    </tr>\n",
       "    <tr>\n",
       "      <th>20</th>\n",
       "      <td>SCD</td>\n",
       "      <td>0.140000</td>\n",
       "      <td>1</td>\n",
       "    </tr>\n",
       "    <tr>\n",
       "      <th>11</th>\n",
       "      <td>OSX</td>\n",
       "      <td>0.030000</td>\n",
       "      <td>1</td>\n",
       "    </tr>\n",
       "    <tr>\n",
       "      <th>0</th>\n",
       "      <td>3DO</td>\n",
       "      <td>0.020000</td>\n",
       "      <td>1</td>\n",
       "    </tr>\n",
       "    <tr>\n",
       "      <th>22</th>\n",
       "      <td>WW</td>\n",
       "      <td>0.000000</td>\n",
       "      <td>1</td>\n",
       "    </tr>\n",
       "  </tbody>\n",
       "</table>\n",
       "</div>"
      ],
      "text/plain": [
       "   Platform      mean  count\n",
       "6       GBC  1.446667      3\n",
       "8       GEN  1.065000      4\n",
       "15      PS3  0.846769   1012\n",
       "16      PS4  0.822613    643\n",
       "25     X360  0.761654   1143\n",
       "14      PS2  0.616620   1660\n",
       "27     XOne  0.610939    426\n",
       "21     SNES  0.596316     19\n",
       "13       PS  0.579388    948\n",
       "4        GB  0.538947     19\n",
       "23      Wii  0.409544   1162\n",
       "2        DC  0.382069     29\n",
       "9       N64  0.365391    256\n",
       "17      PSP  0.351290    628\n",
       "1       3DS  0.289832    298\n",
       "26       XB  0.280561    838\n",
       "24     WiiU  0.269008    131\n",
       "3        DS  0.256910   1602\n",
       "19      SAT  0.254262     61\n",
       "5       GBA  0.253807    796\n",
       "10       NS  0.233969    194\n",
       "7        GC  0.232086    513\n",
       "18      PSV  0.229086    186\n",
       "12       PC  0.143104   1208\n",
       "20      SCD  0.140000      1\n",
       "11      OSX  0.030000      1\n",
       "0       3DO  0.020000      1\n",
       "22       WW  0.000000      1"
      ]
     },
     "execution_count": 24,
     "metadata": {},
     "output_type": "execute_result"
    }
   ],
   "source": [
    "# Get a table of average global sales and count by platform\n",
    "game_df_platform_table = game_df_platform[['Platform', 'Global_Sales']].groupby('Platform')['Global_Sales'].agg(['mean', 'count']).reset_index().sort_values(by='mean', ascending=False)\n",
    "game_df_platform_table"
   ]
  },
  {
   "cell_type": "markdown",
   "metadata": {},
   "source": [
    "With this data, you can see which platforms, on average, sell the most copies of a game. The **GBC** (Gameboy Color) platform has the highest average global sales (1.45 million copies), although it's important to note that this is based on a small sample (only 3 games). On the other hand, the **3DO**, **WW**, and **OSX** platforms have the lowest average global sales. In fact, **WW** shows 0.000 sales, possibly suggesting that no sales data was available or it didn't sell any copies.  Platforms like **PS3**, **PS4** and **X360** all have high average sales values (0.85, 0.82 and 0.76 million copies respectively) and also a relatively larger count (1012, 643, and 1143 games respectively) which could indicate that these platforms have a more consistent performance.  Platforms like **DS** and **Wii**, despite having a larger number of games (1602 and 1162 games respectively), have comparatively lower average sales (0.26 and 0.40 million copies respectively), suggesting that while these platforms have a lot of games, the average game tends not to sell as many copies as on platforms like **PS3**, **PS4**, **X360**.\n",
    "\n",
    "For some less skewed data, lets drop those with a count less than 100 games"
   ]
  },
  {
   "cell_type": "code",
   "execution_count": 25,
   "metadata": {},
   "outputs": [
    {
     "data": {
      "text/plain": [
       "Text(0.5, 0, 'Global Sales (millions)')"
      ]
     },
     "execution_count": 25,
     "metadata": {},
     "output_type": "execute_result"
    },
    {
     "data": {
      "image/png": "[encoded data removed]",
      "text/plain": [
       "<Figure size 640x480 with 1 Axes>"
      ]
     },
     "metadata": {},
     "output_type": "display_data"
    }
   ],
   "source": [
    "# If the number of platforms is less than 100, drop the row\n",
    "game_df_platform = game_df_sales.groupby('Platform')['Global_Sales'].count().reset_index()\n",
    "game_df_platform = game_df_platform[game_df_platform['Global_Sales'] > 100]\n",
    "\n",
    "# Get all platforms that have 100+ games\n",
    "game_df_platform = game_df_sales[game_df_sales['Platform'].isin(game_df_platform['Platform'])]\n",
    "\n",
    "# Create a bar plot of global sales by genre to get the average global sales for each genre\n",
    "sns.barplot(data=game_df_platform, x='Global_Sales', y='Platform', errorbar=None, orient='h', order=game_df_platform.groupby('Platform')['Global_Sales'].mean().sort_values(ascending=False).index)\n",
    "# sns.catplot(data=game_df_sales, x='Global_Sales', y='Genre', orient='h')\n",
    "plt.title(\"Average Global Sales by Platform\")\n",
    "plt.ylabel(\"Platform\")\n",
    "plt.xlabel(\"Global Sales (millions)\")"
   ]
  },
  {
   "cell_type": "code",
   "execution_count": 26,
   "metadata": {},
   "outputs": [
    {
     "data": {
      "text/html": [
       "<div>\n",
       "<style scoped>\n",
       "    .dataframe tbody tr th:only-of-type {\n",
       "        vertical-align: middle;\n",
       "    }\n",
       "\n",
       "    .dataframe tbody tr th {\n",
       "        vertical-align: top;\n",
       "    }\n",
       "\n",
       "    .dataframe thead th {\n",
       "        text-align: right;\n",
       "    }\n",
       "</style>\n",
       "<table border=\"1\" class=\"dataframe\">\n",
       "  <thead>\n",
       "    <tr style=\"text-align: right;\">\n",
       "      <th></th>\n",
       "      <th>Platform</th>\n",
       "      <th>Global_Sales</th>\n",
       "    </tr>\n",
       "  </thead>\n",
       "  <tbody>\n",
       "    <tr>\n",
       "      <th>9</th>\n",
       "      <td>PS3</td>\n",
       "      <td>0.846769</td>\n",
       "    </tr>\n",
       "    <tr>\n",
       "      <th>10</th>\n",
       "      <td>PS4</td>\n",
       "      <td>0.822613</td>\n",
       "    </tr>\n",
       "    <tr>\n",
       "      <th>15</th>\n",
       "      <td>X360</td>\n",
       "      <td>0.761654</td>\n",
       "    </tr>\n",
       "  </tbody>\n",
       "</table>\n",
       "</div>"
      ],
      "text/plain": [
       "   Platform  Global_Sales\n",
       "9       PS3      0.846769\n",
       "10      PS4      0.822613\n",
       "15     X360      0.761654"
      ]
     },
     "execution_count": 26,
     "metadata": {},
     "output_type": "execute_result"
    }
   ],
   "source": [
    "# Get the top 3 platforms\n",
    "game_df_platform.groupby('Platform')['Global_Sales'].mean().reset_index().sort_values(by='Global_Sales', ascending=False)[:3]"
   ]
  },
  {
   "cell_type": "markdown",
   "metadata": {},
   "source": [
    "From this graph and table, we can conclude that the **PS3** platform has the highest average global sales (0.85 million copies), followed by **PS4** (0.82 million copies) and **X360** (0.76 million copies).  This shows that the Playstation and Xbox consoles are the most popular platforms for video games."
   ]
  },
  {
   "cell_type": "markdown",
   "metadata": {},
   "source": [
    "# 4. How has the trend in global sales changed over the years?\n",
    "Video games have become a huge part of modern culture, growing significantly both in terms of the number of players and as an industry.  By examining changes in global sales over time, we can get a clear sense of how the gaming industry is evolving and which periods have seen significant growth or decline. This information is critical for future marketing strategies, game development, and investment in the gaming industry."
   ]
  },
  {
   "cell_type": "code",
   "execution_count": 27,
   "metadata": {},
   "outputs": [
    {
     "name": "stdout",
     "output_type": "stream",
     "text": [
      "(19377, 3)\n"
     ]
    },
    {
     "data": {
      "text/html": [
       "<div>\n",
       "<style scoped>\n",
       "    .dataframe tbody tr th:only-of-type {\n",
       "        vertical-align: middle;\n",
       "    }\n",
       "\n",
       "    .dataframe tbody tr th {\n",
       "        vertical-align: top;\n",
       "    }\n",
       "\n",
       "    .dataframe thead th {\n",
       "        text-align: right;\n",
       "    }\n",
       "</style>\n",
       "<table border=\"1\" class=\"dataframe\">\n",
       "  <thead>\n",
       "    <tr style=\"text-align: right;\">\n",
       "      <th></th>\n",
       "      <th>Name</th>\n",
       "      <th>Global_Sales</th>\n",
       "      <th>Year</th>\n",
       "    </tr>\n",
       "  </thead>\n",
       "  <tbody>\n",
       "    <tr>\n",
       "      <th>0</th>\n",
       "      <td>Grand Theft Auto V</td>\n",
       "      <td>20.32</td>\n",
       "      <td>2013.0</td>\n",
       "    </tr>\n",
       "    <tr>\n",
       "      <th>1</th>\n",
       "      <td>Grand Theft Auto V</td>\n",
       "      <td>19.39</td>\n",
       "      <td>2014.0</td>\n",
       "    </tr>\n",
       "    <tr>\n",
       "      <th>2</th>\n",
       "      <td>Grand Theft Auto: Vice City</td>\n",
       "      <td>16.15</td>\n",
       "      <td>2002.0</td>\n",
       "    </tr>\n",
       "    <tr>\n",
       "      <th>3</th>\n",
       "      <td>Grand Theft Auto V</td>\n",
       "      <td>15.86</td>\n",
       "      <td>2013.0</td>\n",
       "    </tr>\n",
       "    <tr>\n",
       "      <th>4</th>\n",
       "      <td>Call of Duty: Black Ops 3</td>\n",
       "      <td>15.09</td>\n",
       "      <td>2015.0</td>\n",
       "    </tr>\n",
       "  </tbody>\n",
       "</table>\n",
       "</div>"
      ],
      "text/plain": [
       "                          Name  Global_Sales    Year\n",
       "0           Grand Theft Auto V         20.32  2013.0\n",
       "1           Grand Theft Auto V         19.39  2014.0\n",
       "2  Grand Theft Auto: Vice City         16.15  2002.0\n",
       "3           Grand Theft Auto V         15.86  2013.0\n",
       "4    Call of Duty: Black Ops 3         15.09  2015.0"
      ]
     },
     "execution_count": 27,
     "metadata": {},
     "output_type": "execute_result"
    }
   ],
   "source": [
    "# Get relevant columns\n",
    "game_df_sales_years = df[['Name', 'Global_Sales', 'Year']]\n",
    "\n",
    "# Drop rows if year or global sales are missing\n",
    "game_df_sales_years = game_df_sales_years.dropna(subset=['Year', 'Global_Sales'])\n",
    "\n",
    "# Reset index\n",
    "game_df_sales_years.reset_index(drop=True, inplace=True)\n",
    "\n",
    "print(game_df_sales_years.shape)\n",
    "game_df_sales_years.head()"
   ]
  },
  {
   "cell_type": "code",
   "execution_count": 28,
   "metadata": {},
   "outputs": [
    {
     "data": {
      "text/plain": [
       "Text(0, 0.5, 'Global Sales (millions)')"
      ]
     },
     "execution_count": 28,
     "metadata": {},
     "output_type": "execute_result"
    },
    {
     "data": {
      "image/png": "[encoded data removed]",
      "text/plain": [
       "<Figure size 640x480 with 1 Axes>"
      ]
     },
     "metadata": {},
     "output_type": "display_data"
    }
   ],
   "source": [
    "# Group data by year and calculate total global sales for each year\n",
    "yearly_sales = game_df_sales_years.groupby('Year')['Global_Sales'].sum()\n",
    "\n",
    "# Create a line plot of global sales by year\n",
    "sns.lineplot(data=yearly_sales)\n",
    "plt.title(\"Global Sales by Year\")\n",
    "plt.xlabel(\"Year\")\n",
    "plt.ylabel(\"Global Sales (millions)\")"
   ]
  },
  {
   "cell_type": "code",
   "execution_count": 29,
   "metadata": {},
   "outputs": [
    {
     "name": "stdout",
     "output_type": "stream",
     "text": [
      "The year with the highest global sales was 2008.0 with 574.65 million sales.\n"
     ]
    }
   ],
   "source": [
    "# Get the year with the highest global sales\n",
    "print(\"The year with the highest global sales was {} with {} million sales.\".format(yearly_sales.idxmax(), yearly_sales.max()))"
   ]
  },
  {
   "cell_type": "code",
   "execution_count": 30,
   "metadata": {},
   "outputs": [
    {
     "data": {
      "text/html": [
       "<div>\n",
       "<style scoped>\n",
       "    .dataframe tbody tr th:only-of-type {\n",
       "        vertical-align: middle;\n",
       "    }\n",
       "\n",
       "    .dataframe tbody tr th {\n",
       "        vertical-align: top;\n",
       "    }\n",
       "\n",
       "    .dataframe thead th {\n",
       "        text-align: right;\n",
       "    }\n",
       "</style>\n",
       "<table border=\"1\" class=\"dataframe\">\n",
       "  <thead>\n",
       "    <tr style=\"text-align: right;\">\n",
       "      <th></th>\n",
       "      <th>Year</th>\n",
       "      <th>Global_Sales</th>\n",
       "    </tr>\n",
       "  </thead>\n",
       "  <tbody>\n",
       "    <tr>\n",
       "      <th>0</th>\n",
       "      <td>1970.0</td>\n",
       "      <td>1.16</td>\n",
       "    </tr>\n",
       "    <tr>\n",
       "      <th>1</th>\n",
       "      <td>1977.0</td>\n",
       "      <td>2.50</td>\n",
       "    </tr>\n",
       "    <tr>\n",
       "      <th>2</th>\n",
       "      <td>1978.0</td>\n",
       "      <td>6.19</td>\n",
       "    </tr>\n",
       "    <tr>\n",
       "      <th>3</th>\n",
       "      <td>1979.0</td>\n",
       "      <td>0.31</td>\n",
       "    </tr>\n",
       "    <tr>\n",
       "      <th>4</th>\n",
       "      <td>1980.0</td>\n",
       "      <td>2.58</td>\n",
       "    </tr>\n",
       "    <tr>\n",
       "      <th>5</th>\n",
       "      <td>1981.0</td>\n",
       "      <td>10.49</td>\n",
       "    </tr>\n",
       "    <tr>\n",
       "      <th>6</th>\n",
       "      <td>1982.0</td>\n",
       "      <td>35.69</td>\n",
       "    </tr>\n",
       "    <tr>\n",
       "      <th>7</th>\n",
       "      <td>1983.0</td>\n",
       "      <td>22.68</td>\n",
       "    </tr>\n",
       "    <tr>\n",
       "      <th>8</th>\n",
       "      <td>1984.0</td>\n",
       "      <td>4.85</td>\n",
       "    </tr>\n",
       "    <tr>\n",
       "      <th>9</th>\n",
       "      <td>1985.0</td>\n",
       "      <td>2.19</td>\n",
       "    </tr>\n",
       "    <tr>\n",
       "      <th>10</th>\n",
       "      <td>1986.0</td>\n",
       "      <td>10.37</td>\n",
       "    </tr>\n",
       "    <tr>\n",
       "      <th>11</th>\n",
       "      <td>1987.0</td>\n",
       "      <td>5.59</td>\n",
       "    </tr>\n",
       "    <tr>\n",
       "      <th>12</th>\n",
       "      <td>1988.0</td>\n",
       "      <td>8.73</td>\n",
       "    </tr>\n",
       "    <tr>\n",
       "      <th>13</th>\n",
       "      <td>1989.0</td>\n",
       "      <td>9.15</td>\n",
       "    </tr>\n",
       "    <tr>\n",
       "      <th>14</th>\n",
       "      <td>1990.0</td>\n",
       "      <td>9.07</td>\n",
       "    </tr>\n",
       "    <tr>\n",
       "      <th>15</th>\n",
       "      <td>1991.0</td>\n",
       "      <td>6.33</td>\n",
       "    </tr>\n",
       "    <tr>\n",
       "      <th>16</th>\n",
       "      <td>1992.0</td>\n",
       "      <td>10.63</td>\n",
       "    </tr>\n",
       "    <tr>\n",
       "      <th>17</th>\n",
       "      <td>1993.0</td>\n",
       "      <td>22.46</td>\n",
       "    </tr>\n",
       "    <tr>\n",
       "      <th>18</th>\n",
       "      <td>1994.0</td>\n",
       "      <td>37.63</td>\n",
       "    </tr>\n",
       "    <tr>\n",
       "      <th>19</th>\n",
       "      <td>1995.0</td>\n",
       "      <td>62.00</td>\n",
       "    </tr>\n",
       "    <tr>\n",
       "      <th>20</th>\n",
       "      <td>1996.0</td>\n",
       "      <td>108.45</td>\n",
       "    </tr>\n",
       "    <tr>\n",
       "      <th>21</th>\n",
       "      <td>1997.0</td>\n",
       "      <td>128.83</td>\n",
       "    </tr>\n",
       "    <tr>\n",
       "      <th>22</th>\n",
       "      <td>1998.0</td>\n",
       "      <td>165.35</td>\n",
       "    </tr>\n",
       "    <tr>\n",
       "      <th>23</th>\n",
       "      <td>1999.0</td>\n",
       "      <td>188.59</td>\n",
       "    </tr>\n",
       "    <tr>\n",
       "      <th>24</th>\n",
       "      <td>2000.0</td>\n",
       "      <td>180.53</td>\n",
       "    </tr>\n",
       "    <tr>\n",
       "      <th>25</th>\n",
       "      <td>2001.0</td>\n",
       "      <td>244.80</td>\n",
       "    </tr>\n",
       "    <tr>\n",
       "      <th>26</th>\n",
       "      <td>2002.0</td>\n",
       "      <td>329.87</td>\n",
       "    </tr>\n",
       "    <tr>\n",
       "      <th>27</th>\n",
       "      <td>2003.0</td>\n",
       "      <td>323.14</td>\n",
       "    </tr>\n",
       "    <tr>\n",
       "      <th>28</th>\n",
       "      <td>2004.0</td>\n",
       "      <td>302.56</td>\n",
       "    </tr>\n",
       "    <tr>\n",
       "      <th>29</th>\n",
       "      <td>2005.0</td>\n",
       "      <td>325.89</td>\n",
       "    </tr>\n",
       "    <tr>\n",
       "      <th>30</th>\n",
       "      <td>2006.0</td>\n",
       "      <td>273.64</td>\n",
       "    </tr>\n",
       "    <tr>\n",
       "      <th>31</th>\n",
       "      <td>2007.0</td>\n",
       "      <td>455.62</td>\n",
       "    </tr>\n",
       "    <tr>\n",
       "      <th>32</th>\n",
       "      <td>2008.0</td>\n",
       "      <td>574.65</td>\n",
       "    </tr>\n",
       "    <tr>\n",
       "      <th>33</th>\n",
       "      <td>2009.0</td>\n",
       "      <td>533.82</td>\n",
       "    </tr>\n",
       "    <tr>\n",
       "      <th>34</th>\n",
       "      <td>2010.0</td>\n",
       "      <td>474.62</td>\n",
       "    </tr>\n",
       "    <tr>\n",
       "      <th>35</th>\n",
       "      <td>2011.0</td>\n",
       "      <td>472.17</td>\n",
       "    </tr>\n",
       "    <tr>\n",
       "      <th>36</th>\n",
       "      <td>2012.0</td>\n",
       "      <td>295.51</td>\n",
       "    </tr>\n",
       "    <tr>\n",
       "      <th>37</th>\n",
       "      <td>2013.0</td>\n",
       "      <td>285.24</td>\n",
       "    </tr>\n",
       "    <tr>\n",
       "      <th>38</th>\n",
       "      <td>2014.0</td>\n",
       "      <td>304.36</td>\n",
       "    </tr>\n",
       "    <tr>\n",
       "      <th>39</th>\n",
       "      <td>2015.0</td>\n",
       "      <td>256.24</td>\n",
       "    </tr>\n",
       "    <tr>\n",
       "      <th>40</th>\n",
       "      <td>2016.0</td>\n",
       "      <td>214.49</td>\n",
       "    </tr>\n",
       "    <tr>\n",
       "      <th>41</th>\n",
       "      <td>2017.0</td>\n",
       "      <td>209.14</td>\n",
       "    </tr>\n",
       "    <tr>\n",
       "      <th>42</th>\n",
       "      <td>2018.0</td>\n",
       "      <td>172.38</td>\n",
       "    </tr>\n",
       "    <tr>\n",
       "      <th>43</th>\n",
       "      <td>2019.0</td>\n",
       "      <td>2.42</td>\n",
       "    </tr>\n",
       "    <tr>\n",
       "      <th>44</th>\n",
       "      <td>2020.0</td>\n",
       "      <td>3.20</td>\n",
       "    </tr>\n",
       "  </tbody>\n",
       "</table>\n",
       "</div>"
      ],
      "text/plain": [
       "      Year  Global_Sales\n",
       "0   1970.0          1.16\n",
       "1   1977.0          2.50\n",
       "2   1978.0          6.19\n",
       "3   1979.0          0.31\n",
       "4   1980.0          2.58\n",
       "5   1981.0         10.49\n",
       "6   1982.0         35.69\n",
       "7   1983.0         22.68\n",
       "8   1984.0          4.85\n",
       "9   1985.0          2.19\n",
       "10  1986.0         10.37\n",
       "11  1987.0          5.59\n",
       "12  1988.0          8.73\n",
       "13  1989.0          9.15\n",
       "14  1990.0          9.07\n",
       "15  1991.0          6.33\n",
       "16  1992.0         10.63\n",
       "17  1993.0         22.46\n",
       "18  1994.0         37.63\n",
       "19  1995.0         62.00\n",
       "20  1996.0        108.45\n",
       "21  1997.0        128.83\n",
       "22  1998.0        165.35\n",
       "23  1999.0        188.59\n",
       "24  2000.0        180.53\n",
       "25  2001.0        244.80\n",
       "26  2002.0        329.87\n",
       "27  2003.0        323.14\n",
       "28  2004.0        302.56\n",
       "29  2005.0        325.89\n",
       "30  2006.0        273.64\n",
       "31  2007.0        455.62\n",
       "32  2008.0        574.65\n",
       "33  2009.0        533.82\n",
       "34  2010.0        474.62\n",
       "35  2011.0        472.17\n",
       "36  2012.0        295.51\n",
       "37  2013.0        285.24\n",
       "38  2014.0        304.36\n",
       "39  2015.0        256.24\n",
       "40  2016.0        214.49\n",
       "41  2017.0        209.14\n",
       "42  2018.0        172.38\n",
       "43  2019.0          2.42\n",
       "44  2020.0          3.20"
      ]
     },
     "execution_count": 30,
     "metadata": {},
     "output_type": "execute_result"
    }
   ],
   "source": [
    "game_df_sales_years.groupby('Year')['Global_Sales'].sum().reset_index()\n",
    "# .sort_values(by='Global_Sales', ascending=False)[:3]"
   ]
  },
  {
   "cell_type": "markdown",
   "metadata": {},
   "source": [
    "Based on the data, the global sales of video games show several trends: \n",
    "\n",
    "1. **Initial Growth:** From the earliest year in the data, 1970, up until around 1982, there was significant growth in global video game sales. \n",
    "2. **Temporary Decline and Recovery:** Going into 1983, there was a sharp decline, likely corresponding to the 1983 video game industry crash. However, the market quickly recovered and returned to growth by 1986.\n",
    "3. **Strong Rise in Market:** From 1986 until 2008, global sales generally increased year over year, with some fluctuations, notably the significant increases between 1995-2002 and 2006-2008. The highest sales recorded was in 2008, which might align with the popularity of consoles like the Xbox 360, PlayStation 3, and Wii during that time period.\n",
    "4. **Slow Decline:** After 2008, sales declined more years than not, albeit with a somewhat stable phase around 2010-2011. \n",
    "5. **Recent Decline:** There seems to be a further sharp decrease in global sales from the years 2018 to 2020. This might be due to missing data or a decreased interest in traditional video games due to the rise of mobile gaming."
   ]
  },
  {
   "cell_type": "markdown",
   "metadata": {},
   "source": [
    "# 5. Can we guess a game's global sales based on its critic score, genre, and platform?\n",
    "Across different industries, predicting sales is a vital goal that drives numerous business strategies. Similarly, in the gaming industry, understanding which factors influence a game's success could provide invaluable insights for game developers and marketers alike. Naturally, one might wonder if it's possible to estimate a game's global sales based on specific features like its critic score, genre and platform. By building a model to predict global sales based on these attributes, we could potentially identify what makes a game commercially successful and guide future decision-making processes in the gaming industry."
   ]
  },
  {
   "cell_type": "code",
   "execution_count": 31,
   "metadata": {},
   "outputs": [
    {
     "name": "stdout",
     "output_type": "stream",
     "text": [
      "(4111, 5)\n"
     ]
    },
    {
     "data": {
      "text/html": [
       "<div>\n",
       "<style scoped>\n",
       "    .dataframe tbody tr th:only-of-type {\n",
       "        vertical-align: middle;\n",
       "    }\n",
       "\n",
       "    .dataframe tbody tr th {\n",
       "        vertical-align: top;\n",
       "    }\n",
       "\n",
       "    .dataframe thead th {\n",
       "        text-align: right;\n",
       "    }\n",
       "</style>\n",
       "<table border=\"1\" class=\"dataframe\">\n",
       "  <thead>\n",
       "    <tr style=\"text-align: right;\">\n",
       "      <th></th>\n",
       "      <th>Name</th>\n",
       "      <th>Critic_Score</th>\n",
       "      <th>Genre</th>\n",
       "      <th>Platform</th>\n",
       "      <th>Global_Sales</th>\n",
       "    </tr>\n",
       "  </thead>\n",
       "  <tbody>\n",
       "    <tr>\n",
       "      <th>0</th>\n",
       "      <td>Grand Theft Auto V</td>\n",
       "      <td>9.4</td>\n",
       "      <td>Action</td>\n",
       "      <td>PS3</td>\n",
       "      <td>20.32</td>\n",
       "    </tr>\n",
       "    <tr>\n",
       "      <th>1</th>\n",
       "      <td>Grand Theft Auto V</td>\n",
       "      <td>9.7</td>\n",
       "      <td>Action</td>\n",
       "      <td>PS4</td>\n",
       "      <td>19.39</td>\n",
       "    </tr>\n",
       "    <tr>\n",
       "      <th>2</th>\n",
       "      <td>Grand Theft Auto: Vice City</td>\n",
       "      <td>9.6</td>\n",
       "      <td>Action</td>\n",
       "      <td>PS2</td>\n",
       "      <td>16.15</td>\n",
       "    </tr>\n",
       "    <tr>\n",
       "      <th>3</th>\n",
       "      <td>Call of Duty: Modern Warfare 3</td>\n",
       "      <td>8.7</td>\n",
       "      <td>Shooter</td>\n",
       "      <td>X360</td>\n",
       "      <td>14.82</td>\n",
       "    </tr>\n",
       "    <tr>\n",
       "      <th>4</th>\n",
       "      <td>Call of Duty: Black Ops</td>\n",
       "      <td>8.8</td>\n",
       "      <td>Shooter</td>\n",
       "      <td>X360</td>\n",
       "      <td>14.74</td>\n",
       "    </tr>\n",
       "  </tbody>\n",
       "</table>\n",
       "</div>"
      ],
      "text/plain": [
       "                             Name  Critic_Score    Genre Platform  \\\n",
       "0              Grand Theft Auto V           9.4   Action      PS3   \n",
       "1              Grand Theft Auto V           9.7   Action      PS4   \n",
       "2     Grand Theft Auto: Vice City           9.6   Action      PS2   \n",
       "3  Call of Duty: Modern Warfare 3           8.7  Shooter     X360   \n",
       "4         Call of Duty: Black Ops           8.8  Shooter     X360   \n",
       "\n",
       "   Global_Sales  \n",
       "0         20.32  \n",
       "1         19.39  \n",
       "2         16.15  \n",
       "3         14.82  \n",
       "4         14.74  "
      ]
     },
     "execution_count": 31,
     "metadata": {},
     "output_type": "execute_result"
    }
   ],
   "source": [
    "# Get relevant columns\n",
    "game_df_sales_pred = df[['Name', 'Critic_Score', 'Genre', 'Platform', 'Global_Sales']]\n",
    "\n",
    "# Drop rows if critic score or global sales are missing \n",
    "game_df_sales_pred = game_df_sales_pred.dropna(subset=['Critic_Score', 'Global_Sales'])\n",
    "\n",
    "# Drop any games that have no sales\n",
    "game_df_sales_pred = game_df_sales_pred[game_df_sales_pred['Global_Sales'] != 0]\n",
    "\n",
    "# Drop any platforms that aren't consoles\n",
    "not_consoles = ['PSN', 'XBL', 'VC']\n",
    "game_df_sales_pred = game_df_sales_pred[~game_df_sales_pred['Platform'].isin(not_consoles)]\n",
    "\n",
    "# Get all genres that have one game and then drop them\n",
    "game_df_genre_count = game_df_sales_pred.groupby('Genre')['Global_Sales'].count().reset_index()\n",
    "game_df_genre_count = game_df_genre_count[game_df_genre_count['Global_Sales'] == 1]\n",
    "game_df_sales_pred = game_df_sales_pred[~game_df_sales_pred['Genre'].isin(game_df_genre_count['Genre'])]\n",
    "\n",
    "# Reset index\n",
    "game_df_sales_pred.reset_index(drop=True, inplace=True)\n",
    "\n",
    "print(game_df_sales_pred.shape)\n",
    "game_df_sales_pred.head()"
   ]
  },
  {
   "cell_type": "code",
   "execution_count": 32,
   "metadata": {},
   "outputs": [
    {
     "name": "stdout",
     "output_type": "stream",
     "text": [
      "The r-squared score for the model using critic score, genre, and platform to predict global sales was 0.21043104731747675 on 2877 values for the training data.\n",
      "The r-squared score for the model using critic score, genre, and platform to predict global sales was 0.20013891765582026 on 1234 values for the test data.\n"
     ]
    }
   ],
   "source": [
    "# Create X and y\n",
    "X = game_df_sales_pred[['Critic_Score', 'Genre', 'Platform']]\n",
    "y = game_df_sales_pred['Global_Sales']\n",
    "\n",
    "# Create dummy columns for categorical variables\n",
    "X = create_dummy_df(X, ['Genre', 'Platform'], False)\n",
    "\n",
    "# Split into train and test sets\n",
    "X_train, X_test, y_train, y_test = train_test_split(X, y, test_size=.3, random_state=42)\n",
    "\n",
    "# Normalize the data\n",
    "scaler = StandardScaler()\n",
    "X_train = scaler.fit_transform(X_train)\n",
    "X_test = scaler.transform(X_test)\n",
    "\n",
    "# Instantiate and fit model\n",
    "lm_model = LinearRegression()\n",
    "lm_model.fit(X_train, y_train)\n",
    "\n",
    "# Predict using model\n",
    "y_test_preds = lm_model.predict(X_test)\n",
    "y_train_preds = lm_model.predict(X_train)\n",
    "\n",
    "# Score using model\n",
    "test_score = r2_score(y_test, y_test_preds)\n",
    "train_score = r2_score(y_train, y_train_preds)\n",
    "\n",
    "# Print scores\n",
    "print(\"The r-squared score for the model using critic score, genre, and platform to predict global sales was {} on {} values for the training data.\".format(train_score, len(y_train)))\n",
    "print(\"The r-squared score for the model using critic score, genre, and platform to predict global sales was {} on {} values for the test data.\".format(test_score, len(y_test)))"
   ]
  },
  {
   "cell_type": "code",
   "execution_count": 33,
   "metadata": {},
   "outputs": [
    {
     "data": {
      "text/plain": [
       "[<matplotlib.lines.Line2D at 0x1fdff49f750>]"
      ]
     },
     "execution_count": 33,
     "metadata": {},
     "output_type": "execute_result"
    },
    {
     "data": {
      "image/png": "[encoded data removed]",
      "text/plain": [
       "<Figure size 640x480 with 1 Axes>"
      ]
     },
     "metadata": {},
     "output_type": "display_data"
    }
   ],
   "source": [
    "# Visualize the model\n",
    "plt.scatter(y_test, y_test_preds)\n",
    "plt.xlabel(\"Actual Sales\")\n",
    "plt.ylabel(\"Predicted Sales\")\n",
    "plt.title(\"Actual vs Predicted Sales\")\n",
    "\n",
    "# Get line of best fit\n",
    "z = np.polyfit(y_test, y_test_preds, 1)\n",
    "p = np.poly1d(z)\n",
    "plt.plot(y_test, p(y_test), color='red')"
   ]
  },
  {
   "cell_type": "markdown",
   "metadata": {},
   "source": [
    "1. The train score of about **0.210** means about **21%** of the variance in the dependent variable `Global_Sales` is predictable from the independent variables `'Critic_Score', 'Genre', 'Platform'` in the training data.\n",
    "2. The test score of about **0.200** means about **20%** of the variance in `Global_Sales` is predictable from `'Critic_Score', 'Genre', 'Platform'` in the test data.\n",
    "\n",
    "Since the R-squared values for both the training and test sets are relatively low, it suggests that the model does an insufficient job of capturing the relationship between global sales and the combination of critic score, genre, and platform.  This is highlighted more in the scatter plot by how much the plots are diverging from the line. There are potentially other factors not included in the model that significantly influence global sales, or perhaps the relationship is not linear and a different modeling approach should be considered.  Lets see if adding more features will help."
   ]
  },
  {
   "cell_type": "code",
   "execution_count": 34,
   "metadata": {},
   "outputs": [
    {
     "data": {
      "image/png": "[encoded data removed]",
      "text/plain": [
       "<Figure size 640x480 with 1 Axes>"
      ]
     },
     "metadata": {},
     "output_type": "display_data"
    }
   ],
   "source": [
    "# Find optimal number of features\n",
    "cutoffs = [3000, 2000, 1000, 500, 250, 100, 50, 25, 10, 5, 4, 3, 2, 1]\n",
    "r2_scores_test, r2_scores_train, lm_model, X_train, X_test, y_train, y_test = find_optimal_lm_mod(X, y, cutoffs)"
   ]
  },
  {
   "cell_type": "code",
   "execution_count": 35,
   "metadata": {},
   "outputs": [
    {
     "name": "stdout",
     "output_type": "stream",
     "text": [
      "32\n",
      "0.2067593593323992\n",
      "0.20014717219766887\n"
     ]
    }
   ],
   "source": [
    "print(X_train.shape[1]) #Number of columns\n",
    "print(r2_scores_train[np.argmax(r2_scores_test)]) # The model we should implement train_r2\n",
    "print(r2_scores_test[np.argmax(r2_scores_test)]) # The model we should implement test_r2"
   ]
  },
  {
   "cell_type": "markdown",
   "metadata": {},
   "source": [
    "While achieving a score of around **0.2** or **20%** with **32** features seems to indicate that even though the model's performance is improving with the addition of features (which explains the positive correlation), the overall explanatory power of the model is still quite low.  This could be due to a lack of relevance with the features, the lack of a linear relationship with the data, more influential factors that haven't been included, noise in the data, or a combination of these factors.  It's possible that linear regression might not be the best approach for this dataset."
   ]
  }
 ],
 "metadata": {
  "kernelspec": {
   "display_name": ".venv",
   "language": "python",
   "name": "python3"
  },
  "language_info": {
   "codemirror_mode": {
    "name": "ipython",
    "version": 3
   },
   "file_extension": ".py",
   "mimetype": "text/x-python",
   "name": "python",
   "nbconvert_exporter": "python",
   "pygments_lexer": "ipython3",
   "version": "3.11.2"
  },
  "orig_nbformat": 4
 },
 "nbformat": 4,
 "nbformat_minor": 2
}
